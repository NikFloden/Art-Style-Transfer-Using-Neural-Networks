{
  "cells": [
    {
      "cell_type": "markdown",
      "metadata": {
        "id": "view-in-github",
        "colab_type": "text"
      },
      "source": [
        "<a href=\"https://colab.research.google.com/github/NikFloden/Art-Style-Transfer-Using-Neural-Networks/blob/main/Milestone_3_Transfer_Learning.ipynb\" target=\"_parent\"><img src=\"https://colab.research.google.com/assets/colab-badge.svg\" alt=\"Open In Colab\"/></a>"
      ]
    },
    {
      "cell_type": "markdown",
      "metadata": {
        "id": "2DEaEnqcZV-3"
      },
      "source": [
        "#Objective\n",
        "Use transfer learning to improve the accuracy of the CIFAR10 dataset. The purpose is to get experience using pretrained models.\n",
        "##1. Load the CIFAR10 dataset, set up our model"
      ]
    },
    {
      "cell_type": "code",
      "execution_count": 11,
      "metadata": {
        "id": "mmGiMASvZGnY"
      },
      "outputs": [],
      "source": [
        "from tensorflow.keras.datasets import cifar10\n",
        "np.random.seed(2822) #gotta make it replicatable and stay the same across runnings\n",
        "# Loads the cifar10 dataset\n",
        "(x_train, y_train), (x_test, y_test)  = cifar10.load_data()"
      ]
    },
    {
      "cell_type": "markdown",
      "metadata": {
        "id": "YVFTvIduaRlb"
      },
      "source": [
        "So first things first, let's look at the shape of our data:"
      ]
    },
    {
      "cell_type": "code",
      "execution_count": 12,
      "metadata": {
        "colab": {
          "base_uri": "https://localhost:8080/"
        },
        "id": "pEXVUG_TaWRY",
        "outputId": "34740317-f135-4171-dbb8-717705be72f3"
      },
      "outputs": [
        {
          "output_type": "stream",
          "name": "stdout",
          "text": [
            "(50000, 32, 32, 3)\n",
            "(50000, 1)\n",
            "(10000, 32, 32, 3)\n",
            "(10000, 1)\n"
          ]
        }
      ],
      "source": [
        "print(x_train.shape)\n",
        "print(y_train.shape)\n",
        "print(x_test.shape)\n",
        "print(y_test.shape)\n"
      ]
    },
    {
      "cell_type": "markdown",
      "metadata": {
        "id": "czcf1V4WbM4O"
      },
      "source": [
        "Let's take a look at a random image for fun."
      ]
    },
    {
      "cell_type": "code",
      "execution_count": 13,
      "metadata": {
        "colab": {
          "base_uri": "https://localhost:8080/",
          "height": 283
        },
        "id": "VwBGUyZ3bfTf",
        "outputId": "62cb64df-7543-4b95-9254-0d01aefb91e8"
      },
      "outputs": [
        {
          "output_type": "stream",
          "name": "stdout",
          "text": [
            "[2]\n"
          ]
        },
        {
          "output_type": "display_data",
          "data": {
            "image/png": "[encoded data removed]",
            "text/plain": [
              "<Figure size 432x288 with 1 Axes>"
            ]
          },
          "metadata": {
            "needs_background": "light"
          }
        }
      ],
      "source": [
        "import numpy as np\n",
        "import matplotlib.pyplot as plt\n",
        "\n",
        "random_num = np.random.randint(0,len(x_train))\n",
        "plt.imshow(x_train[random_num])\n",
        "print(y_train[random_num])"
      ]
    },
    {
      "cell_type": "markdown",
      "metadata": {
        "id": "-W8V4WdtcafO"
      },
      "source": [
        "Looking at the dataset's webpage, the list is all uint8s, we gotta change that to floats and then norm the data to make it work simpler. "
      ]
    },
    {
      "cell_type": "code",
      "execution_count": 14,
      "metadata": {
        "id": "8WMYQLuVcarS"
      },
      "outputs": [],
      "source": [
        "img_rows = x_train[0].shape[0] #we're gonna need this later, I just know it. \n",
        "img_cols = x_train[0].shape[1]\n",
        "\n",
        "# change our image type to float32 data type\n",
        "x_train = x_train.astype('float32') #uint8 originally\n",
        "x_test = x_test.astype('float32')\n",
        "\n",
        "# Normalize our data by changing the range from (0 to 255) to (0 to 1)\n",
        "x_train /= 255.0\n",
        "x_test /= 255.0\n"
      ]
    },
    {
      "cell_type": "markdown",
      "metadata": {
        "id": "AyMM7gPqbjFV"
      },
      "source": [
        "Again on the theme of making things move smoother, let's one-hot encode the labels."
      ]
    },
    {
      "cell_type": "code",
      "execution_count": 15,
      "metadata": {
        "id": "B7v2KYkyb7jX"
      },
      "outputs": [],
      "source": [
        "from tensorflow.keras.utils import to_categorical\n",
        "\n",
        "y_train = to_categorical(y_train)\n",
        "y_test = to_categorical(y_test)\n",
        "num_classes = y_test.shape[1]"
      ]
    },
    {
      "cell_type": "markdown",
      "metadata": {
        "id": "vsmiBQyGdHtW"
      },
      "source": [
        "Alright, it's time to set up the network. "
      ]
    },
    {
      "cell_type": "code",
      "execution_count": 16,
      "metadata": {
        "colab": {
          "base_uri": "https://localhost:8080/"
        },
        "id": "hktIVhtcdO4Q",
        "outputId": "5d0a6bce-f7fc-4751-d05c-8a1294b8c7e5"
      },
      "outputs": [
        {
          "output_type": "stream",
          "name": "stdout",
          "text": [
            "Model: \"sequential_1\"\n",
            "_________________________________________________________________\n",
            " Layer (type)                Output Shape              Param #   \n",
            "=================================================================\n",
            " conv2d_4 (Conv2D)           (None, 32, 32, 32)        896       \n",
            "                                                                 \n",
            " activation_6 (Activation)   (None, 32, 32, 32)        0         \n",
            "                                                                 \n",
            " conv2d_5 (Conv2D)           (None, 30, 30, 32)        9248      \n",
            "                                                                 \n",
            " activation_7 (Activation)   (None, 30, 30, 32)        0         \n",
            "                                                                 \n",
            " max_pooling2d_2 (MaxPooling  (None, 15, 15, 32)       0         \n",
            " 2D)                                                             \n",
            "                                                                 \n",
            " dropout_3 (Dropout)         (None, 15, 15, 32)        0         \n",
            "                                                                 \n",
            " conv2d_6 (Conv2D)           (None, 15, 15, 64)        18496     \n",
            "                                                                 \n",
            " activation_8 (Activation)   (None, 15, 15, 64)        0         \n",
            "                                                                 \n",
            " conv2d_7 (Conv2D)           (None, 13, 13, 64)        36928     \n",
            "                                                                 \n",
            " activation_9 (Activation)   (None, 13, 13, 64)        0         \n",
            "                                                                 \n",
            " max_pooling2d_3 (MaxPooling  (None, 6, 6, 64)         0         \n",
            " 2D)                                                             \n",
            "                                                                 \n",
            " dropout_4 (Dropout)         (None, 6, 6, 64)          0         \n",
            "                                                                 \n",
            " flatten_1 (Flatten)         (None, 2304)              0         \n",
            "                                                                 \n",
            " dense_2 (Dense)             (None, 512)               1180160   \n",
            "                                                                 \n",
            " activation_10 (Activation)  (None, 512)               0         \n",
            "                                                                 \n",
            " dropout_5 (Dropout)         (None, 512)               0         \n",
            "                                                                 \n",
            " dense_3 (Dense)             (None, 10)                5130      \n",
            "                                                                 \n",
            " activation_11 (Activation)  (None, 10)                0         \n",
            "                                                                 \n",
            "=================================================================\n",
            "Total params: 1,250,858\n",
            "Trainable params: 1,250,858\n",
            "Non-trainable params: 0\n",
            "_________________________________________________________________\n",
            "None\n"
          ]
        }
      ],
      "source": [
        "from tensorflow.keras.models import Sequential\n",
        "from tensorflow.keras.layers import Dense, Dropout, Flatten, Activation\n",
        "from tensorflow.keras.layers import Conv2D, MaxPooling2D\n",
        "from tensorflow.keras import backend as K\n",
        "from tensorflow.keras.optimizers import SGD \n",
        "import tensorflow as tf\n",
        "\n",
        "input_shape = x_test[0].shape\n",
        "#init the model\n",
        "model = Sequential()\n",
        "\n",
        "#First convolutional layer, using padding ='same' to maintain the output shape\n",
        "model.add(Conv2D(32, 3, padding='same', input_shape=input_shape))\n",
        "#first Activation layer\n",
        "model.add(Activation('relu'))\n",
        "#second convolutional layer\n",
        "model.add(Conv2D(32, 3))\n",
        "#second Activation layer\n",
        "model.add(Activation('relu'))\n",
        "#first pooling layer, using a kernel of 2,2\n",
        "model.add(MaxPooling2D(pool_size=(2, 2)))\n",
        "#dropout layer\n",
        "model.add(Dropout(0.5))\n",
        "#third convolutional layer, using padding agin to maintain the output shape, but increasing the filters to 64\n",
        "model.add(Conv2D(64, 3, padding ='same'))\n",
        "#third activation layer\n",
        "model.add(Activation('relu'))\n",
        "#Fourth convolutional layer, same # of filters as the third\n",
        "model.add(Conv2D(64, 3))\n",
        "#fourth activation layer\n",
        "model.add(Activation('relu'))\n",
        "#second pooling layer\n",
        "model.add(MaxPooling2D(pool_size=(2, 2)))\n",
        "#second dropout layer\n",
        "model.add(Dropout(0.5))\n",
        "#flatten layer\n",
        "model.add(Flatten())\n",
        "#dense layer\n",
        "model.add(Dense(512))\n",
        "#another activation layer\n",
        "model.add(Activation('relu'))\n",
        "model.add(Dropout(0.5))\n",
        "model.add(Dense(10))\n",
        "model.add(Activation('softmax'))\n",
        "model.compile(loss = 'categorical_crossentropy',\n",
        "              optimizer = SGD(0.01),\n",
        "              metrics = ['accuracy'])\n",
        "print(model.summary())"
      ]
    },
    {
      "cell_type": "markdown",
      "metadata": {
        "id": "MgVFHES4oXIB"
      },
      "source": [
        "We got it right on the money, exactly what we want.\n",
        "#2. The training montage"
      ]
    },
    {
      "cell_type": "code",
      "execution_count": 17,
      "metadata": {
        "colab": {
          "base_uri": "https://localhost:8080/"
        },
        "id": "I0fo2-5Poje9",
        "outputId": "2869d2eb-3d1f-4e67-c156-34af69b41609"
      },
      "outputs": [
        {
          "output_type": "stream",
          "name": "stdout",
          "text": [
            "Epoch 1/10\n",
            "1563/1563 [==============================] - 23s 14ms/step - loss: 2.1951 - accuracy: 0.1667 - val_loss: 1.9889 - val_accuracy: 0.2669\n",
            "Epoch 2/10\n",
            "1563/1563 [==============================] - 21s 14ms/step - loss: 1.8812 - accuracy: 0.2985 - val_loss: 1.6836 - val_accuracy: 0.3960\n",
            "Epoch 3/10\n",
            "1563/1563 [==============================] - 21s 14ms/step - loss: 1.6868 - accuracy: 0.3780 - val_loss: 1.5234 - val_accuracy: 0.4486\n",
            "Epoch 4/10\n",
            "1563/1563 [==============================] - 21s 14ms/step - loss: 1.5651 - accuracy: 0.4266 - val_loss: 1.4409 - val_accuracy: 0.4898\n",
            "Epoch 5/10\n",
            "1563/1563 [==============================] - 23s 15ms/step - loss: 1.4864 - accuracy: 0.4579 - val_loss: 1.3516 - val_accuracy: 0.5107\n",
            "Epoch 6/10\n",
            "1563/1563 [==============================] - 23s 14ms/step - loss: 1.4167 - accuracy: 0.4857 - val_loss: 1.2772 - val_accuracy: 0.5404\n",
            "Epoch 7/10\n",
            "1563/1563 [==============================] - 22s 14ms/step - loss: 1.3641 - accuracy: 0.5053 - val_loss: 1.2450 - val_accuracy: 0.5546\n",
            "Epoch 8/10\n",
            "1563/1563 [==============================] - 21s 14ms/step - loss: 1.3175 - accuracy: 0.5234 - val_loss: 1.1968 - val_accuracy: 0.5776\n",
            "Epoch 9/10\n",
            "1563/1563 [==============================] - 20s 13ms/step - loss: 1.2787 - accuracy: 0.5405 - val_loss: 1.1646 - val_accuracy: 0.5853\n",
            "Epoch 10/10\n",
            "1563/1563 [==============================] - 21s 14ms/step - loss: 1.2434 - accuracy: 0.5550 - val_loss: 1.1539 - val_accuracy: 0.5934\n",
            "Test loss: 1.1538983583450317\n",
            "Test accuracy: 0.5934000015258789\n"
          ]
        }
      ],
      "source": [
        "batch_size = 32\n",
        "epochs = 10\n",
        "from tensorflow.keras.callbacks import History\n",
        "\n",
        "history = model.fit(x_train, y_train, batch_size, epochs, validation_data = (x_test, y_test)) #fit our model\n",
        "test_loss, test_acc = model.evaluate(x_test, y_test, verbose=0)\n",
        "print('Test loss:', test_loss)\n",
        "print('Test accuracy:', test_acc)"
      ]
    },
    {
      "cell_type": "code",
      "execution_count": 18,
      "metadata": {
        "colab": {
          "base_uri": "https://localhost:8080/"
        },
        "id": "qn9eFS6en0Uh",
        "outputId": "4b2795b0-8ea1-4da6-aba4-5543035a1864"
      },
      "outputs": [
        {
          "output_type": "stream",
          "name": "stdout",
          "text": [
            "model saved\n"
          ]
        }
      ],
      "source": [
        "from tensorflow.keras.models import load_model\n",
        "model.save('cfar10_deep_cnn_10_Epochs.h5')\n",
        "print('model saved')\n",
        "del(model)\n",
        "model = load_model('cfar10_deep_cnn_10_Epochs.h5')"
      ]
    },
    {
      "cell_type": "markdown",
      "metadata": {
        "id": "xnE5O5GW4mEm"
      },
      "source": [
        "##3. Testing with some test images\n",
        "We're gonna grab 5 and see what our model classifies it as."
      ]
    },
    {
      "cell_type": "code",
      "execution_count": 19,
      "metadata": {
        "colab": {
          "base_uri": "https://localhost:8080/",
          "height": 240
        },
        "id": "K0W3EQg33-ab",
        "outputId": "cf1c88df-2b86-40a9-a1fd-7eba17180cdc"
      },
      "outputs": [
        {
          "output_type": "stream",
          "name": "stdout",
          "text": [
            "8\t7\t7\t7\t1\t"
          ]
        },
        {
          "output_type": "display_data",
          "data": {
            "image/png": "[encoded data removed]",
            "text/plain": [
              "<Figure size 1440x1440 with 5 Axes>"
            ]
          },
          "metadata": {
            "needs_background": "light"
          }
        }
      ],
      "source": [
        "import numpy as np\n",
        "\n",
        "figure = plt.figure(figsize=(20,20))\n",
        "\n",
        "\n",
        "for i in range(5):\n",
        "    figure.add_subplot(1,5,i+1)\n",
        "    random_idx = np.random.randint(0,len(x_test))\n",
        "    plt.imshow(x_test[random_idx,:,:,0],cmap=\"gray\")\n",
        "    plt.axis(\"off\")\n",
        "    print(np.squeeze(np.argmax(model.predict(x_test[random_idx].reshape(1,32,32,3)),axis=1),axis=0),end=\"\\t\")"
      ]
    },
    {
      "cell_type": "markdown",
      "metadata": {
        "id": "ScyWAv564urc"
      },
      "source": [
        "So in a breakdown:\n",
        "\n",
        "\n",
        "\n",
        "1.   From what I can tell, this image is of a ship and the model agrees.\n",
        "2.   This is pretty obviously a horse, and the model classified it as a horse as well.\n",
        "3. This appears to be a horse too and the model also classifies it as one.\n",
        "4. A third horse, a third correct classification of a horse.\n",
        "5. Definitely a car, classified as a car.\n",
        "\n",
        "Well, I guess we got lucky with this sample. 100% accuracy in this sample. \n",
        "\n"
      ]
    },
    {
      "cell_type": "markdown",
      "source": [
        "##4. Loading VGG16"
      ],
      "metadata": {
        "id": "bcEWlqFnnc-r"
      }
    },
    {
      "cell_type": "code",
      "source": [
        "from tensorflow.keras.applications import vgg16 as vgg\n",
        "base_model = vgg.VGG16(weights='imagenet',\n",
        "                      include_top=False,\n",
        "                      input_shape=(32, 32, 3))"
      ],
      "metadata": {
        "id": "sqK-6WLGnguS"
      },
      "execution_count": 32,
      "outputs": []
    },
    {
      "cell_type": "markdown",
      "source": [
        "Extract the last layer from the third block of the VGG16 model. You’ll be reusing the VGG model up to block3_pool."
      ],
      "metadata": {
        "id": "dUq1GBKhn4AT"
      }
    },
    {
      "cell_type": "code",
      "source": [
        "base_model.summary()\n",
        "last = base_model.get_layer('block3_pool').output"
      ],
      "metadata": {
        "colab": {
          "base_uri": "https://localhost:8080/"
        },
        "id": "whlWsDEXn10D",
        "outputId": "3b6adf3e-4060-49de-dca9-82dad79245ac"
      },
      "execution_count": 33,
      "outputs": [
        {
          "output_type": "stream",
          "name": "stdout",
          "text": [
            "Model: \"vgg16\"\n",
            "_________________________________________________________________\n",
            " Layer (type)                Output Shape              Param #   \n",
            "=================================================================\n",
            " input_2 (InputLayer)        [(None, 32, 32, 3)]       0         \n",
            "                                                                 \n",
            " block1_conv1 (Conv2D)       (None, 32, 32, 64)        1792      \n",
            "                                                                 \n",
            " block1_conv2 (Conv2D)       (None, 32, 32, 64)        36928     \n",
            "                                                                 \n",
            " block1_pool (MaxPooling2D)  (None, 16, 16, 64)        0         \n",
            "                                                                 \n",
            " block2_conv1 (Conv2D)       (None, 16, 16, 128)       73856     \n",
            "                                                                 \n",
            " block2_conv2 (Conv2D)       (None, 16, 16, 128)       147584    \n",
            "                                                                 \n",
            " block2_pool (MaxPooling2D)  (None, 8, 8, 128)         0         \n",
            "                                                                 \n",
            " block3_conv1 (Conv2D)       (None, 8, 8, 256)         295168    \n",
            "                                                                 \n",
            " block3_conv2 (Conv2D)       (None, 8, 8, 256)         590080    \n",
            "                                                                 \n",
            " block3_conv3 (Conv2D)       (None, 8, 8, 256)         590080    \n",
            "                                                                 \n",
            " block3_pool (MaxPooling2D)  (None, 4, 4, 256)         0         \n",
            "                                                                 \n",
            " block4_conv1 (Conv2D)       (None, 4, 4, 512)         1180160   \n",
            "                                                                 \n",
            " block4_conv2 (Conv2D)       (None, 4, 4, 512)         2359808   \n",
            "                                                                 \n",
            " block4_conv3 (Conv2D)       (None, 4, 4, 512)         2359808   \n",
            "                                                                 \n",
            " block4_pool (MaxPooling2D)  (None, 2, 2, 512)         0         \n",
            "                                                                 \n",
            " block5_conv1 (Conv2D)       (None, 2, 2, 512)         2359808   \n",
            "                                                                 \n",
            " block5_conv2 (Conv2D)       (None, 2, 2, 512)         2359808   \n",
            "                                                                 \n",
            " block5_conv3 (Conv2D)       (None, 2, 2, 512)         2359808   \n",
            "                                                                 \n",
            " block5_pool (MaxPooling2D)  (None, 1, 1, 512)         0         \n",
            "                                                                 \n",
            "=================================================================\n",
            "Total params: 14,714,688\n",
            "Trainable params: 14,714,688\n",
            "Non-trainable params: 0\n",
            "_________________________________________________________________\n"
          ]
        }
      ]
    },
    {
      "cell_type": "markdown",
      "source": [
        "Add classification layers for the CIFAR10 classes on top of it as shown in the figure:"
      ],
      "metadata": {
        "id": "SCDg1GiZoSuy"
      }
    },
    {
      "cell_type": "code",
      "source": [
        "from tensorflow.keras.layers import GlobalAveragePooling2D, BatchNormalization\n",
        "from tensorflow.keras import Model\n",
        "x = GlobalAveragePooling2D()(last)\n",
        "x = BatchNormalization()(x)\n",
        "x = Dense(256, activation='relu')(x)\n",
        "x = Dense(256, activation='relu')(x)\n",
        "x = Dropout(0.5)(x)\n",
        "# Make your top model\n",
        "number_of_classes = 10\n",
        "top = Dense(number_of_classes, activation='softmax')(x)\n",
        "# Construct your full model now\n",
        "model = Model(base_model.input, top)"
      ],
      "metadata": {
        "id": "O0RWxYktoT-o"
      },
      "execution_count": 34,
      "outputs": []
    },
    {
      "cell_type": "markdown",
      "source": [
        "Freeze the layers in VGG16 model."
      ],
      "metadata": {
        "id": "8y7A4n3qpSGI"
      }
    },
    {
      "cell_type": "code",
      "source": [
        "for layer in base_model.layers:\n",
        "    layer.trainable = False"
      ],
      "metadata": {
        "id": "TCLPTjY_pRWw"
      },
      "execution_count": 35,
      "outputs": []
    },
    {
      "cell_type": "code",
      "source": [
        "model.compile(loss = 'categorical_crossentropy',\n",
        "              optimizer = SGD(0.01),\n",
        "              metrics = ['accuracy'])\n",
        "history = model.fit(x_train, y_train, batch_size, epochs, validation_data = (x_test, y_test)) #fit our model\n",
        "test_loss, test_acc = model.evaluate(x_test, y_test, verbose=0)\n",
        "print('Test loss:', test_loss)\n",
        "print('Test accuracy:', test_acc)"
      ],
      "metadata": {
        "colab": {
          "base_uri": "https://localhost:8080/"
        },
        "id": "YkLGYUjfqIJd",
        "outputId": "a9acf0da-03c9-4cb7-fcf0-3da714f772cf"
      },
      "execution_count": 36,
      "outputs": [
        {
          "output_type": "stream",
          "name": "stdout",
          "text": [
            "Epoch 1/10\n",
            "1563/1563 [==============================] - 21s 12ms/step - loss: 1.5035 - accuracy: 0.4704 - val_loss: 1.1148 - val_accuracy: 0.6075\n",
            "Epoch 2/10\n",
            "1563/1563 [==============================] - 18s 12ms/step - loss: 1.1632 - accuracy: 0.5921 - val_loss: 0.9838 - val_accuracy: 0.6546\n",
            "Epoch 3/10\n",
            "1563/1563 [==============================] - 17s 11ms/step - loss: 1.0541 - accuracy: 0.6328 - val_loss: 0.9204 - val_accuracy: 0.6748\n",
            "Epoch 4/10\n",
            "1563/1563 [==============================] - 17s 11ms/step - loss: 0.9938 - accuracy: 0.6538 - val_loss: 0.8801 - val_accuracy: 0.6926\n",
            "Epoch 5/10\n",
            "1563/1563 [==============================] - 17s 11ms/step - loss: 0.9488 - accuracy: 0.6697 - val_loss: 0.8455 - val_accuracy: 0.7018\n",
            "Epoch 6/10\n",
            "1563/1563 [==============================] - 17s 11ms/step - loss: 0.9193 - accuracy: 0.6796 - val_loss: 0.8234 - val_accuracy: 0.7100\n",
            "Epoch 7/10\n",
            "1563/1563 [==============================] - 17s 11ms/step - loss: 0.8900 - accuracy: 0.6901 - val_loss: 0.8086 - val_accuracy: 0.7123\n",
            "Epoch 8/10\n",
            "1563/1563 [==============================] - 17s 11ms/step - loss: 0.8654 - accuracy: 0.6977 - val_loss: 0.7934 - val_accuracy: 0.7184\n",
            "Epoch 9/10\n",
            "1563/1563 [==============================] - 17s 11ms/step - loss: 0.8457 - accuracy: 0.7061 - val_loss: 0.7820 - val_accuracy: 0.7248\n",
            "Epoch 10/10\n",
            "1563/1563 [==============================] - 17s 11ms/step - loss: 0.8252 - accuracy: 0.7137 - val_loss: 0.7725 - val_accuracy: 0.7292\n",
            "Test loss: 0.772545337677002\n",
            "Test accuracy: 0.729200005531311\n"
          ]
        }
      ]
    },
    {
      "cell_type": "markdown",
      "source": [
        "Well, the transfer model has a significantly better accuracy."
      ],
      "metadata": {
        "id": "F8G9D0J3ujgr"
      }
    }
  ],
  "metadata": {
    "accelerator": "GPU",
    "colab": {
      "collapsed_sections": [],
      "name": "Copy of Milestone 3: Transfer Learning",
      "provenance": [],
      "mount_file_id": "1W7fJUVM0t16tI4TmAfPsTHLyRbcqW1nr",
      "authorship_tag": "ABX9TyOW1wsDuqXEWZEcvzwwxbmw",
      "include_colab_link": true
    },
    "kernelspec": {
      "display_name": "Python 3",
      "name": "python3"
    },
    "language_info": {
      "name": "python"
    }
  },
  "nbformat": 4,
  "nbformat_minor": 0
}