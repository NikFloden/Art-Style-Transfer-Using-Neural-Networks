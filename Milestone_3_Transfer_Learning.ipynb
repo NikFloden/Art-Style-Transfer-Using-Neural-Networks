{
  "nbformat": 4,
  "nbformat_minor": 0,
  "metadata": {
    "colab": {
      "name": "Milestone 3: Transfer Learning",
      "provenance": [],
      "collapsed_sections": [],
      "authorship_tag": "ABX9TyNhXYtQHRik6VkVozVwnEaQ",
      "include_colab_link": true
    },
    "kernelspec": {
      "name": "python3",
      "display_name": "Python 3"
    },
    "language_info": {
      "name": "python"
    }
  },
  "cells": [
    {
      "cell_type": "markdown",
      "metadata": {
        "id": "view-in-github",
        "colab_type": "text"
      },
      "source": [
        "<a href=\"https://colab.research.google.com/github/NikFloden/Art-Style-Transfer-Using-Neural-Networks/blob/main/Milestone_3_Transfer_Learning.ipynb\" target=\"_parent\"><img src=\"https://colab.research.google.com/assets/colab-badge.svg\" alt=\"Open In Colab\"/></a>"
      ]
    },
    {
      "cell_type": "markdown",
      "source": [
        "#Objective\n",
        "Use transfer learning to improve the accuracy of the CIFAR10 dataset. The purpose is to get experience using pretrained models.\n",
        "##1. Load the CIFAR10 dataset, set up our model"
      ],
      "metadata": {
        "id": "2DEaEnqcZV-3"
      }
    },
    {
      "cell_type": "code",
      "source": [
        "from tensorflow.keras.datasets import cifar10\n",
        "\n",
        "# Loads the cifar10 dataset\n",
        "(x_train, y_train), (x_test, y_test)  = cifar10.load_data()"
      ],
      "metadata": {
        "id": "mmGiMASvZGnY"
      },
      "execution_count": 1,
      "outputs": []
    },
    {
      "cell_type": "markdown",
      "source": [
        "So first things first, let's look at the shape of our data:"
      ],
      "metadata": {
        "id": "YVFTvIduaRlb"
      }
    },
    {
      "cell_type": "code",
      "source": [
        "print(x_train.shape)\n",
        "print(y_train.shape)\n",
        "print(x_test.shape)\n",
        "print(y_test.shape)\n"
      ],
      "metadata": {
        "colab": {
          "base_uri": "https://localhost:8080/"
        },
        "id": "pEXVUG_TaWRY",
        "outputId": "4cfbc18e-e545-4be2-b43a-d35ef4a03db3"
      },
      "execution_count": 21,
      "outputs": [
        {
          "output_type": "stream",
          "name": "stdout",
          "text": [
            "(50000, 32, 32, 3)\n",
            "(50000, 10)\n",
            "(10000, 32, 32, 3)\n",
            "(10000, 10)\n",
            "[0. 0. 0. 1. 0. 0. 0. 0. 0. 0.]\n"
          ]
        }
      ]
    },
    {
      "cell_type": "markdown",
      "source": [
        "Let's take a look at a random image for fun."
      ],
      "metadata": {
        "id": "czcf1V4WbM4O"
      }
    },
    {
      "cell_type": "code",
      "source": [
        "import numpy as np\n",
        "import matplotlib.pyplot as plt\n",
        "\n",
        "random_num = np.random.randint(0,len(x_train))\n",
        "plt.imshow(x_train[random_num])\n",
        "print(y_train[random_num])"
      ],
      "metadata": {
        "colab": {
          "base_uri": "https://localhost:8080/",
          "height": 283
        },
        "id": "VwBGUyZ3bfTf",
        "outputId": "58e5e2c3-dc9d-46ef-8936-f3f432e3e03f"
      },
      "execution_count": 3,
      "outputs": [
        {
          "output_type": "stream",
          "name": "stdout",
          "text": [
            "[1]\n"
          ]
        },
        {
          "output_type": "display_data",
          "data": {
            "image/png": "[encoded data removed]",
            "text/plain": [
              "<Figure size 432x288 with 1 Axes>"
            ]
          },
          "metadata": {
            "needs_background": "light"
          }
        }
      ]
    },
    {
      "cell_type": "markdown",
      "source": [
        "Looking at the dataset's webpage, the list is all uint8s, we gotta change that to floats and then norm the data to make it work simpler. "
      ],
      "metadata": {
        "id": "-W8V4WdtcafO"
      }
    },
    {
      "cell_type": "code",
      "source": [
        "img_rows = x_train[0].shape[0] #we're gonna need this later, I just know it. \n",
        "img_cols = x_train[0].shape[1]\n",
        "\n",
        "# change our image type to float32 data type\n",
        "x_train = x_train.astype('float32') #uint8 originally\n",
        "x_test = x_test.astype('float32')\n",
        "\n",
        "# Normalize our data by changing the range from (0 to 255) to (0 to 1)\n",
        "x_train /= 255.0\n",
        "x_test /= 255.0\n"
      ],
      "metadata": {
        "id": "8WMYQLuVcarS"
      },
      "execution_count": 4,
      "outputs": []
    },
    {
      "cell_type": "markdown",
      "source": [
        "Again on the theme of making things move smoother, let's one-hot encode the labels."
      ],
      "metadata": {
        "id": "AyMM7gPqbjFV"
      }
    },
    {
      "cell_type": "code",
      "source": [
        "from tensorflow.keras.utils import to_categorical\n",
        "\n",
        "y_train = to_categorical(y_train)\n",
        "y_test = to_categorical(y_test)\n",
        "num_classes = y_test.shape[1]"
      ],
      "metadata": {
        "id": "B7v2KYkyb7jX"
      },
      "execution_count": 5,
      "outputs": []
    },
    {
      "cell_type": "markdown",
      "source": [
        "Alright, it's time to set up the network. "
      ],
      "metadata": {
        "id": "vsmiBQyGdHtW"
      }
    },
    {
      "cell_type": "code",
      "source": [
        "from tensorflow.keras.models import Sequential\n",
        "from tensorflow.keras.layers import Dense, Dropout, Flatten, Activation\n",
        "from tensorflow.keras.layers import Conv2D, MaxPooling2D\n",
        "from tensorflow.keras import backend as K\n",
        "from tensorflow.keras.optimizers import SGD \n",
        "import tensorflow as tf\n",
        "\n",
        "input_shape = x_test[0].shape\n",
        "#init the model\n",
        "model = Sequential()\n",
        "\n",
        "#First convolutional layer, using padding ='same' to maintain the output shape\n",
        "model.add(Conv2D(32, 3, padding='same', input_shape=input_shape))\n",
        "#first Activation layer\n",
        "model.add(Activation('relu'))\n",
        "#second convolutional layer\n",
        "model.add(Conv2D(32, 3))\n",
        "#second Activation layer\n",
        "model.add(Activation('relu'))\n",
        "#first pooling layer, using a kernel of 2,2\n",
        "model.add(MaxPooling2D(pool_size=(2, 2)))\n",
        "#dropout layer\n",
        "model.add(Dropout(0.5))\n",
        "#third convolutional layer, using padding agin to maintain the output shape, but increasing the filters to 64\n",
        "model.add(Conv2D(64, 3, padding ='same'))\n",
        "#third activation layer\n",
        "model.add(Activation('relu'))\n",
        "#Fourth convolutional layer, same # of filters as the third\n",
        "model.add(Conv2D(64, 3))\n",
        "#fourth activation layer\n",
        "model.add(Activation('relu'))\n",
        "#second pooling layer\n",
        "model.add(MaxPooling2D(pool_size=(2, 2)))\n",
        "#second dropout layer\n",
        "model.add(Dropout(0.5))\n",
        "#flatten layer\n",
        "model.add(Flatten())\n",
        "#dense layer\n",
        "model.add(Dense(512))\n",
        "#another activation layer\n",
        "model.add(Activation('relu'))\n",
        "model.add(Dropout(0.5))\n",
        "model.add(Dense(10))\n",
        "model.add(Activation('softmax'))\n",
        "model.compile(loss = 'categorical_crossentropy',\n",
        "              optimizer = SGD(0.01),\n",
        "              metrics = ['accuracy'])\n",
        "print(model.summary())"
      ],
      "metadata": {
        "colab": {
          "base_uri": "https://localhost:8080/"
        },
        "id": "hktIVhtcdO4Q",
        "outputId": "0e543002-cc43-4b1f-d9ae-ce6e8f2d51c0"
      },
      "execution_count": 9,
      "outputs": [
        {
          "output_type": "stream",
          "name": "stdout",
          "text": [
            "Model: \"sequential_1\"\n",
            "_________________________________________________________________\n",
            " Layer (type)                Output Shape              Param #   \n",
            "=================================================================\n",
            " conv2d_4 (Conv2D)           (None, 32, 32, 32)        896       \n",
            "                                                                 \n",
            " activation_6 (Activation)   (None, 32, 32, 32)        0         \n",
            "                                                                 \n",
            " conv2d_5 (Conv2D)           (None, 30, 30, 32)        9248      \n",
            "                                                                 \n",
            " activation_7 (Activation)   (None, 30, 30, 32)        0         \n",
            "                                                                 \n",
            " max_pooling2d_2 (MaxPooling  (None, 15, 15, 32)       0         \n",
            " 2D)                                                             \n",
            "                                                                 \n",
            " dropout_3 (Dropout)         (None, 15, 15, 32)        0         \n",
            "                                                                 \n",
            " conv2d_6 (Conv2D)           (None, 15, 15, 64)        18496     \n",
            "                                                                 \n",
            " activation_8 (Activation)   (None, 15, 15, 64)        0         \n",
            "                                                                 \n",
            " conv2d_7 (Conv2D)           (None, 13, 13, 64)        36928     \n",
            "                                                                 \n",
            " activation_9 (Activation)   (None, 13, 13, 64)        0         \n",
            "                                                                 \n",
            " max_pooling2d_3 (MaxPooling  (None, 6, 6, 64)         0         \n",
            " 2D)                                                             \n",
            "                                                                 \n",
            " dropout_4 (Dropout)         (None, 6, 6, 64)          0         \n",
            "                                                                 \n",
            " flatten_1 (Flatten)         (None, 2304)              0         \n",
            "                                                                 \n",
            " dense_2 (Dense)             (None, 512)               1180160   \n",
            "                                                                 \n",
            " activation_10 (Activation)  (None, 512)               0         \n",
            "                                                                 \n",
            " dropout_5 (Dropout)         (None, 512)               0         \n",
            "                                                                 \n",
            " dense_3 (Dense)             (None, 10)                5130      \n",
            "                                                                 \n",
            " activation_11 (Activation)  (None, 10)                0         \n",
            "                                                                 \n",
            "=================================================================\n",
            "Total params: 1,250,858\n",
            "Trainable params: 1,250,858\n",
            "Non-trainable params: 0\n",
            "_________________________________________________________________\n",
            "None\n"
          ]
        }
      ]
    },
    {
      "cell_type": "markdown",
      "source": [
        "We got it right on the money, exactly what we want.\n",
        "#2. The training montage"
      ],
      "metadata": {
        "id": "MgVFHES4oXIB"
      }
    },
    {
      "cell_type": "code",
      "source": [
        "batch_size = 32\n",
        "epochs = 10\n",
        "from tensorflow.keras.callbacks import History\n",
        "\n",
        "history = model.fit(x_train, y_train, batch_size, epochs, validation_data = (x_test, y_test)) #fit our model\n",
        "test_loss, test_acc = model.evaluate(x_test, y_test, verbose=0)\n",
        "print('Test loss:', test_loss)\n",
        "print('Test accuracy:', test_acc)"
      ],
      "metadata": {
        "colab": {
          "base_uri": "https://localhost:8080/"
        },
        "id": "I0fo2-5Poje9",
        "outputId": "10297e78-e0f4-4c48-b8c2-fa757e4cbf76"
      },
      "execution_count": 10,
      "outputs": [
        {
          "output_type": "stream",
          "name": "stdout",
          "text": [
            "Epoch 1/10\n",
            "1563/1563 [==============================] - 231s 147ms/step - loss: 2.1556 - accuracy: 0.1858 - val_loss: 2.0399 - val_accuracy: 0.2460\n",
            "Epoch 2/10\n",
            "1563/1563 [==============================] - 241s 154ms/step - loss: 1.9147 - accuracy: 0.2876 - val_loss: 1.9674 - val_accuracy: 0.2917\n",
            "Epoch 3/10\n",
            "1563/1563 [==============================] - 240s 154ms/step - loss: 1.7408 - accuracy: 0.3580 - val_loss: 1.6025 - val_accuracy: 0.4039\n",
            "Epoch 4/10\n",
            "1563/1563 [==============================] - 238s 153ms/step - loss: 1.6146 - accuracy: 0.4054 - val_loss: 1.4688 - val_accuracy: 0.4598\n",
            "Epoch 5/10\n",
            "1563/1563 [==============================] - 239s 153ms/step - loss: 1.5152 - accuracy: 0.4448 - val_loss: 1.4126 - val_accuracy: 0.4852\n",
            "Epoch 6/10\n",
            "1563/1563 [==============================] - 240s 153ms/step - loss: 1.4401 - accuracy: 0.4730 - val_loss: 1.3471 - val_accuracy: 0.5160\n",
            "Epoch 7/10\n",
            "1563/1563 [==============================] - 242s 155ms/step - loss: 1.3844 - accuracy: 0.4977 - val_loss: 1.2516 - val_accuracy: 0.5592\n",
            "Epoch 8/10\n",
            "1563/1563 [==============================] - 241s 154ms/step - loss: 1.3436 - accuracy: 0.5132 - val_loss: 1.2062 - val_accuracy: 0.5655\n",
            "Epoch 9/10\n",
            "1563/1563 [==============================] - 240s 154ms/step - loss: 1.2992 - accuracy: 0.5301 - val_loss: 1.1945 - val_accuracy: 0.5741\n",
            "Epoch 10/10\n",
            "1563/1563 [==============================] - 239s 153ms/step - loss: 1.2642 - accuracy: 0.5437 - val_loss: 1.1316 - val_accuracy: 0.6002\n",
            "Test loss: 1.1315990686416626\n",
            "Test accuracy: 0.6001999974250793\n"
          ]
        }
      ]
    },
    {
      "cell_type": "markdown",
      "source": [
        "##3. Testing with some test images\n",
        "We're gonna grab 5 and see what our model classifies it as."
      ],
      "metadata": {
        "id": "xnE5O5GW4mEm"
      }
    },
    {
      "cell_type": "code",
      "source": [
        "import numpy as np\n",
        "\n",
        "figure = plt.figure(figsize=(20,20))\n",
        "np.random.seed(2722)\n",
        "\n",
        "for i in range(5):\n",
        "    figure.add_subplot(1,5,i+1)\n",
        "    random_idx = np.random.randint(0,len(x_test))\n",
        "    plt.imshow(x_test[random_idx,:,:,0],cmap=\"gray\")\n",
        "    plt.axis(\"off\")\n",
        "    print(np.squeeze(np.argmax(model.predict(x_test[random_idx].reshape(1,32,32,3)),axis=1),axis=0),end=\"\\t\")"
      ],
      "metadata": {
        "colab": {
          "base_uri": "https://localhost:8080/",
          "height": 235
        },
        "id": "K0W3EQg33-ab",
        "outputId": "de935fb2-d522-4166-dc67-0e4724e007a3"
      },
      "execution_count": 1,
      "outputs": [
        {
          "output_type": "error",
          "ename": "NameError",
          "evalue": "ignored",
          "traceback": [
            "\u001b[0;31m---------------------------------------------------------------------------\u001b[0m",
            "\u001b[0;31mNameError\u001b[0m                                 Traceback (most recent call last)",
            "\u001b[0;32m<ipython-input-1-fdc158c9dc6c>\u001b[0m in \u001b[0;36m<module>\u001b[0;34m()\u001b[0m\n\u001b[1;32m      1\u001b[0m \u001b[0;32mimport\u001b[0m \u001b[0mnumpy\u001b[0m \u001b[0;32mas\u001b[0m \u001b[0mnp\u001b[0m\u001b[0;34m\u001b[0m\u001b[0;34m\u001b[0m\u001b[0m\n\u001b[1;32m      2\u001b[0m \u001b[0;34m\u001b[0m\u001b[0m\n\u001b[0;32m----> 3\u001b[0;31m \u001b[0mfigure\u001b[0m \u001b[0;34m=\u001b[0m \u001b[0mplt\u001b[0m\u001b[0;34m.\u001b[0m\u001b[0mfigure\u001b[0m\u001b[0;34m(\u001b[0m\u001b[0mfigsize\u001b[0m\u001b[0;34m=\u001b[0m\u001b[0;34m(\u001b[0m\u001b[0;36m20\u001b[0m\u001b[0;34m,\u001b[0m\u001b[0;36m20\u001b[0m\u001b[0;34m)\u001b[0m\u001b[0;34m)\u001b[0m\u001b[0;34m\u001b[0m\u001b[0;34m\u001b[0m\u001b[0m\n\u001b[0m\u001b[1;32m      4\u001b[0m \u001b[0mnp\u001b[0m\u001b[0;34m.\u001b[0m\u001b[0mrandom\u001b[0m\u001b[0;34m.\u001b[0m\u001b[0mseed\u001b[0m\u001b[0;34m(\u001b[0m\u001b[0;36m2722\u001b[0m\u001b[0;34m)\u001b[0m\u001b[0;34m\u001b[0m\u001b[0;34m\u001b[0m\u001b[0m\n\u001b[1;32m      5\u001b[0m \u001b[0;34m\u001b[0m\u001b[0m\n",
            "\u001b[0;31mNameError\u001b[0m: name 'plt' is not defined"
          ]
        }
      ]
    },
    {
      "cell_type": "markdown",
      "source": [
        "So in a breakdown:\n",
        "\n",
        "\n"
      ],
      "metadata": {
        "id": "ScyWAv564urc"
      }
    }
  ]
}