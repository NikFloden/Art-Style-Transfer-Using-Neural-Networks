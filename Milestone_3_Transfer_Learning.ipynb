{
  "nbformat": 4,
  "nbformat_minor": 0,
  "metadata": {
    "colab": {
      "name": "Milestone 3: Transfer Learning",
      "provenance": [],
      "collapsed_sections": [],
      "authorship_tag": "ABX9TyOe8GNmuCJ0xwM0kl1c16H7"
    },
    "kernelspec": {
      "name": "python3",
      "display_name": "Python 3"
    },
    "language_info": {
      "name": "python"
    }
  },
  "cells": [
    {
      "cell_type": "markdown",
      "source": [
        "#Objective\n",
        "Use transfer learning to improve the accuracy of the CIFAR10 dataset. The purpose is to get experience using pretrained models.\n",
        "##1. Load the CIFAR10 dataset, set up our model"
      ],
      "metadata": {
        "id": "2DEaEnqcZV-3"
      }
    },
    {
      "cell_type": "code",
      "source": [
        "from tensorflow.keras.datasets import cifar10\n",
        "\n",
        "# Loads the cifar10 dataset\n",
        "(x_train, y_train), (x_test, y_test)  = cifar10.load_data()"
      ],
      "metadata": {
        "id": "mmGiMASvZGnY",
        "colab": {
          "base_uri": "https://localhost:8080/"
        },
        "outputId": "c146d046-10da-4d1b-b86a-725d95a499bc"
      },
      "execution_count": 1,
      "outputs": [
        {
          "output_type": "stream",
          "name": "stdout",
          "text": [
            "Downloading data from https://www.cs.toronto.edu/~kriz/cifar-10-python.tar.gz\n",
            "170500096/170498071 [==============================] - 3s 0us/step\n",
            "170508288/170498071 [==============================] - 3s 0us/step\n"
          ]
        }
      ]
    },
    {
      "cell_type": "markdown",
      "source": [
        "So first things first, let's look at the shape of our data:"
      ],
      "metadata": {
        "id": "YVFTvIduaRlb"
      }
    },
    {
      "cell_type": "code",
      "source": [
        "print(x_train.shape)\n",
        "print(y_train.shape)\n",
        "print(x_test.shape)\n",
        "print(y_test.shape)\n"
      ],
      "metadata": {
        "colab": {
          "base_uri": "https://localhost:8080/"
        },
        "id": "pEXVUG_TaWRY",
        "outputId": "a09f1124-1ecb-4af6-98a9-05750414b4cb"
      },
      "execution_count": 2,
      "outputs": [
        {
          "output_type": "stream",
          "name": "stdout",
          "text": [
            "(50000, 32, 32, 3)\n",
            "(50000, 1)\n",
            "(10000, 32, 32, 3)\n",
            "(10000, 1)\n"
          ]
        }
      ]
    },
    {
      "cell_type": "markdown",
      "source": [
        "Let's take a look at a random image for fun."
      ],
      "metadata": {
        "id": "czcf1V4WbM4O"
      }
    },
    {
      "cell_type": "code",
      "source": [
        "import numpy as np\n",
        "import matplotlib.pyplot as plt\n",
        "\n",
        "random_num = np.random.randint(0,len(x_train))\n",
        "plt.imshow(x_train[random_num])\n",
        "print(y_train[random_num])"
      ],
      "metadata": {
        "colab": {
          "base_uri": "https://localhost:8080/",
          "height": 283
        },
        "id": "VwBGUyZ3bfTf",
        "outputId": "9e610809-26fe-4a90-8d15-e98e93654f1f"
      },
      "execution_count": 3,
      "outputs": [
        {
          "output_type": "stream",
          "name": "stdout",
          "text": [
            "[4]\n"
          ]
        },
        {
          "output_type": "display_data",
          "data": {
            "image/png": "[encoded data removed]",
            "text/plain": [
              "<Figure size 432x288 with 1 Axes>"
            ]
          },
          "metadata": {
            "needs_background": "light"
          }
        }
      ]
    },
    {
      "cell_type": "markdown",
      "source": [
        "Looking at the dataset's webpage, the list is all uint8s, we gotta change that to floats and then norm the data to make it work simpler. "
      ],
      "metadata": {
        "id": "-W8V4WdtcafO"
      }
    },
    {
      "cell_type": "code",
      "source": [
        "img_rows = x_train[0].shape[0] #we're gonna need this later, I just know it. \n",
        "img_cols = x_train[0].shape[1]\n",
        "\n",
        "# change our image type to float32 data type\n",
        "x_train = x_train.astype('float32') #uint8 originally\n",
        "x_test = x_test.astype('float32')\n",
        "\n",
        "# Normalize our data by changing the range from (0 to 255) to (0 to 1)\n",
        "x_train /= 255.0\n",
        "x_test /= 255.0\n"
      ],
      "metadata": {
        "id": "8WMYQLuVcarS"
      },
      "execution_count": 4,
      "outputs": []
    },
    {
      "cell_type": "markdown",
      "source": [
        "Again on the theme of making things move smoother, let's one-hot encode the labels."
      ],
      "metadata": {
        "id": "AyMM7gPqbjFV"
      }
    },
    {
      "cell_type": "code",
      "source": [
        "from tensorflow.keras.utils import to_categorical\n",
        "\n",
        "y_train = to_categorical(y_train)\n",
        "y_test = to_categorical(y_test)\n",
        "num_classes = y_test.shape[1]"
      ],
      "metadata": {
        "id": "B7v2KYkyb7jX"
      },
      "execution_count": 5,
      "outputs": []
    },
    {
      "cell_type": "markdown",
      "source": [
        "Alright, it's time to set up the network. "
      ],
      "metadata": {
        "id": "vsmiBQyGdHtW"
      }
    },
    {
      "cell_type": "code",
      "source": [
        "from tensorflow.keras.models import Sequential\n",
        "from tensorflow.keras.layers import Dense, Dropout, Flatten, Activation\n",
        "from tensorflow.keras.layers import Conv2D, MaxPooling2D\n",
        "from tensorflow.keras import backend as K\n",
        "from tensorflow.keras.optimizers import SGD \n",
        "import tensorflow as tf\n",
        "\n",
        "input_shape = x_test[0].shape\n",
        "#init the model\n",
        "model = Sequential()\n",
        "\n",
        "#First convolutional layer, using padding ='same' to maintain the output shape\n",
        "model.add(Conv2D(32, 3, padding='same', input_shape=input_shape))\n",
        "#first Activation layer\n",
        "model.add(Activation('relu'))\n",
        "#second convolutional layer\n",
        "model.add(Conv2D(32, 3))\n",
        "#second Activation layer\n",
        "model.add(Activation('relu'))\n",
        "#first pooling layer, using a kernel of 2,2\n",
        "model.add(MaxPooling2D(pool_size=(2, 2)))\n",
        "#dropout layer\n",
        "model.add(Dropout(0.5))\n",
        "#third convolutional layer, using padding agin to maintain the output shape, but increasing the filters to 64\n",
        "model.add(Conv2D(64, 3, padding ='same'))\n",
        "#third activation layer\n",
        "model.add(Activation('relu'))\n",
        "#Fourth convolutional layer, same # of filters as the third\n",
        "model.add(Conv2D(64, 3))\n",
        "#fourth activation layer\n",
        "model.add(Activation('relu'))\n",
        "#second pooling layer\n",
        "model.add(MaxPooling2D(pool_size=(2, 2)))\n",
        "#second dropout layer\n",
        "model.add(Dropout(0.5))\n",
        "#flatten layer\n",
        "model.add(Flatten())\n",
        "#dense layer\n",
        "model.add(Dense(512))\n",
        "#another activation layer\n",
        "model.add(Activation('relu'))\n",
        "model.add(Dropout(0.5))\n",
        "model.add(Dense(10))\n",
        "model.add(Activation('softmax'))\n",
        "model.compile(loss = 'categorical_crossentropy',\n",
        "              optimizer = SGD(0.01),\n",
        "              metrics = ['accuracy'])\n",
        "print(model.summary())"
      ],
      "metadata": {
        "colab": {
          "base_uri": "https://localhost:8080/"
        },
        "id": "hktIVhtcdO4Q",
        "outputId": "068b38de-3e4a-47bb-b582-2649abb9ef15"
      },
      "execution_count": 6,
      "outputs": [
        {
          "output_type": "stream",
          "name": "stdout",
          "text": [
            "Model: \"sequential\"\n",
            "_________________________________________________________________\n",
            " Layer (type)                Output Shape              Param #   \n",
            "=================================================================\n",
            " conv2d (Conv2D)             (None, 32, 32, 32)        896       \n",
            "                                                                 \n",
            " activation (Activation)     (None, 32, 32, 32)        0         \n",
            "                                                                 \n",
            " conv2d_1 (Conv2D)           (None, 30, 30, 32)        9248      \n",
            "                                                                 \n",
            " activation_1 (Activation)   (None, 30, 30, 32)        0         \n",
            "                                                                 \n",
            " max_pooling2d (MaxPooling2D  (None, 15, 15, 32)       0         \n",
            " )                                                               \n",
            "                                                                 \n",
            " dropout (Dropout)           (None, 15, 15, 32)        0         \n",
            "                                                                 \n",
            " conv2d_2 (Conv2D)           (None, 15, 15, 64)        18496     \n",
            "                                                                 \n",
            " activation_2 (Activation)   (None, 15, 15, 64)        0         \n",
            "                                                                 \n",
            " conv2d_3 (Conv2D)           (None, 13, 13, 64)        36928     \n",
            "                                                                 \n",
            " activation_3 (Activation)   (None, 13, 13, 64)        0         \n",
            "                                                                 \n",
            " max_pooling2d_1 (MaxPooling  (None, 6, 6, 64)         0         \n",
            " 2D)                                                             \n",
            "                                                                 \n",
            " dropout_1 (Dropout)         (None, 6, 6, 64)          0         \n",
            "                                                                 \n",
            " flatten (Flatten)           (None, 2304)              0         \n",
            "                                                                 \n",
            " dense (Dense)               (None, 512)               1180160   \n",
            "                                                                 \n",
            " activation_4 (Activation)   (None, 512)               0         \n",
            "                                                                 \n",
            " dropout_2 (Dropout)         (None, 512)               0         \n",
            "                                                                 \n",
            " dense_1 (Dense)             (None, 10)                5130      \n",
            "                                                                 \n",
            " activation_5 (Activation)   (None, 10)                0         \n",
            "                                                                 \n",
            "=================================================================\n",
            "Total params: 1,250,858\n",
            "Trainable params: 1,250,858\n",
            "Non-trainable params: 0\n",
            "_________________________________________________________________\n",
            "None\n"
          ]
        }
      ]
    },
    {
      "cell_type": "markdown",
      "source": [
        "We got it right on the money, exactly what we want.\n",
        "#2. The training montage"
      ],
      "metadata": {
        "id": "MgVFHES4oXIB"
      }
    },
    {
      "cell_type": "code",
      "source": [
        "batch_size = 32\n",
        "epochs = 10\n",
        "from tensorflow.keras.callbacks import History\n",
        "\n",
        "history = model.fit(x_train, y_train, batch_size, epochs, validation_data = (x_test, y_test)) #fit our model\n",
        "test_loss, test_acc = model.evaluate(x_test, y_test, verbose=0)\n",
        "print('Test loss:', test_loss)\n",
        "print('Test accuracy:', test_acc)"
      ],
      "metadata": {
        "colab": {
          "base_uri": "https://localhost:8080/"
        },
        "id": "I0fo2-5Poje9",
        "outputId": "c94f168d-b5af-4255-ef26-dd79cf6d2edb"
      },
      "execution_count": 9,
      "outputs": [
        {
          "output_type": "stream",
          "name": "stdout",
          "text": [
            "Epoch 1/10\n",
            "1563/1563 [==============================] - 255s 163ms/step - loss: 1.2654 - accuracy: 0.5443 - val_loss: 1.1161 - val_accuracy: 0.6028\n",
            "Epoch 2/10\n",
            "1563/1563 [==============================] - 261s 167ms/step - loss: 1.2310 - accuracy: 0.5586 - val_loss: 1.1293 - val_accuracy: 0.5909\n",
            "Epoch 3/10\n",
            "1563/1563 [==============================] - 262s 167ms/step - loss: 1.2007 - accuracy: 0.5713 - val_loss: 1.0761 - val_accuracy: 0.6181\n",
            "Epoch 4/10\n",
            "1563/1563 [==============================] - 261s 167ms/step - loss: 1.1720 - accuracy: 0.5825 - val_loss: 1.0580 - val_accuracy: 0.6231\n",
            "Epoch 5/10\n",
            "1563/1563 [==============================] - 260s 166ms/step - loss: 1.1459 - accuracy: 0.5904 - val_loss: 1.0240 - val_accuracy: 0.6367\n",
            "Epoch 6/10\n",
            "1563/1563 [==============================] - 264s 169ms/step - loss: 1.1197 - accuracy: 0.6033 - val_loss: 1.0041 - val_accuracy: 0.6433\n",
            "Epoch 7/10\n",
            "1563/1563 [==============================] - 259s 165ms/step - loss: 1.0994 - accuracy: 0.6101 - val_loss: 0.9936 - val_accuracy: 0.6446\n",
            "Epoch 8/10\n",
            "1563/1563 [==============================] - 260s 167ms/step - loss: 1.0820 - accuracy: 0.6163 - val_loss: 1.0222 - val_accuracy: 0.6385\n",
            "Epoch 9/10\n",
            "1563/1563 [==============================] - 262s 168ms/step - loss: 1.0589 - accuracy: 0.6243 - val_loss: 0.9268 - val_accuracy: 0.6733\n",
            "Epoch 10/10\n",
            "1563/1563 [==============================] - 264s 169ms/step - loss: 1.0367 - accuracy: 0.6309 - val_loss: 0.9330 - val_accuracy: 0.6657\n",
            "Test loss: 0.9330272674560547\n",
            "Test accuracy: 0.6657000184059143\n"
          ]
        }
      ]
    },
    {
      "cell_type": "markdown",
      "source": [
        "##3. Testing with some test images\n",
        "We're gonna grab 5 and see what our model classifies it as."
      ],
      "metadata": {
        "id": "xnE5O5GW4mEm"
      }
    },
    {
      "cell_type": "code",
      "source": [
        "import numpy as np\n",
        "\n",
        "figure = plt.figure(figsize=(20,20))\n",
        "np.random.seed(2722)\n",
        "\n",
        "for i in range(5):\n",
        "    figure.add_subplot(1,5,i+1)\n",
        "    random_idx = np.random.randint(0,len(x_test))\n",
        "    plt.imshow(x_test[random_idx,:,:,0],cmap=\"gray\")\n",
        "    plt.axis(\"off\")\n",
        "    print(np.squeeze(np.argmax(model.predict(x_test[random_idx].reshape(1,32,32,3)),axis=1),axis=0),end=\"\\t\")"
      ],
      "metadata": {
        "colab": {
          "base_uri": "https://localhost:8080/",
          "height": 240
        },
        "id": "K0W3EQg33-ab",
        "outputId": "a54e0031-f345-4719-829f-a676a68b4a77"
      },
      "execution_count": 8,
      "outputs": [
        {
          "output_type": "stream",
          "name": "stdout",
          "text": [
            "9\t5\t8\t1\t8\t"
          ]
        },
        {
          "output_type": "display_data",
          "data": {
            "image/png": "[encoded data removed]",
            "text/plain": [
              "<Figure size 1440x1440 with 5 Axes>"
            ]
          },
          "metadata": {
            "needs_background": "light"
          }
        }
      ]
    },
    {
      "cell_type": "markdown",
      "source": [
        "So in a breakdown:\n",
        "\n",
        "\n",
        "*   The first image appears to be a ship, the model classified it as a \n",
        "*   List item\n",
        "\n",
        "\n",
        "\n",
        "Saving the model because it takes forever to fit:"
      ],
      "metadata": {
        "id": "ScyWAv564urc"
      }
    },
    {
      "cell_type": "code",
      "source": [
        "from tensorflow.keras.models import load_model\n",
        "model.save('cfar10_deep_cnn_10_Epochs.h5')\n",
        "print('model saved')"
      ],
      "metadata": {
        "colab": {
          "base_uri": "https://localhost:8080/"
        },
        "id": "qn9eFS6en0Uh",
        "outputId": "a99fbe99-c2b1-4004-c380-8481d2c01ce7"
      },
      "execution_count": 12,
      "outputs": [
        {
          "output_type": "stream",
          "name": "stdout",
          "text": [
            "model saved\n"
          ]
        }
      ]
    }
  ]
}