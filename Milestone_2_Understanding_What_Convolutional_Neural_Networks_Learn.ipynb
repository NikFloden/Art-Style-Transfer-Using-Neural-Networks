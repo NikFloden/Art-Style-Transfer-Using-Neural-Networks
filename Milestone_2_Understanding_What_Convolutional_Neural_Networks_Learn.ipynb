{
  "nbformat": 4,
  "nbformat_minor": 0,
  "metadata": {
    "colab": {
      "name": "Milestone 2 - Understanding What Convolutional Neural Networks Learn",
      "provenance": [],
      "collapsed_sections": [],
      "authorship_tag": "ABX9TyPCaXvo/EgDgejbQ0JY2Tzy",
      "include_colab_link": true
    },
    "kernelspec": {
      "name": "python3",
      "display_name": "Python 3"
    },
    "language_info": {
      "name": "python"
    }
  },
  "cells": [
    {
      "cell_type": "markdown",
      "metadata": {
        "id": "view-in-github",
        "colab_type": "text"
      },
      "source": [
        "<a href=\"https://colab.research.google.com/github/NikFloden/Art-Style-Transfer-Using-Neural-Networks/blob/main/Milestone_2_Understanding_What_Convolutional_Neural_Networks_Learn.ipynb\" target=\"_parent\"><img src=\"https://colab.research.google.com/assets/colab-badge.svg\" alt=\"Open In Colab\"/></a>"
      ]
    },
    {
      "cell_type": "markdown",
      "source": [
        "# Understanding What Convolutional Neural Networks Learn\n",
        "**Objective**\n",
        "\n",
        "*   Load the trained CNN and understand what exactly it’s learning.\n",
        "\n",
        "**Importance to project**\n",
        "\n",
        "*   Understand the abilities of the trained CNN model to understand not only the way to build better models but also the model’s weaknesses and strengths.\n",
        "\n",
        "*  Learn how to view misclassified samples, which will help to understand that CNNs are not infallible and give some intuition into how they work.\n",
        "\n",
        "* Learn to display the feature maps that are output by various convolution and pooling layers in a network, given certain input into your trained CNN.\n",
        "\n",
        "**Workflow**\n",
        "\n",
        "\n",
        "1.   Load the trained MNIST model from Milestone 1.\n",
        "2.   Analyze the model’s performance by viewing the confusion matrix and  classification report.\n",
        "  *   Closely examine the performance metrics of the trained CNN and identify its weaknesses.\n",
        "  *  Look closely at the individual performance of each class and note the classes the CNN has trouble classifying correctly.\n",
        "3.  Identify all samples wrongly classified by the CNN and display them.\n",
        "\n",
        "Observe this data and intuitively think about why the CNN misclassified them.\n",
        "4.  Extract the layer outputs and create the activation layer model so you can visualize the activations of each layer.\n",
        "\n",
        "This requires you to give the CNN a certain input, such as an image from your test dataset.\n",
        "5.  Display the output shape of the first layer activation and compare it with the output layer shape that can be seen from displaying the model summary.\n",
        "6.  Show the output of the activation map of the fourth convolution filter or feature map in the first convolution layer.\n",
        "7.  Display all the activations for the first three layers of your model (in other words–the two convolution layers and the max-pooling layer).\n",
        "\n",
        "\n"
      ],
      "metadata": {
        "id": "V42CpOamkXLC"
      }
    },
    {
      "cell_type": "markdown",
      "source": [
        "## 1.  Loading the Model"
      ],
      "metadata": {
        "id": "bDcvXZVa0kSW"
      }
    },
    {
      "cell_type": "code",
      "execution_count": 3,
      "metadata": {
        "id": "qhTYEMsXkPG7"
      },
      "outputs": [],
      "source": [
        "from tensorflow.keras.models import load_model\n",
        "model = load_model(\"mnist_simple_cnn_10_Epochs.h5\")"
      ]
    },
    {
      "cell_type": "markdown",
      "source": [
        "##2.  Analyzing the model's performance"
      ],
      "metadata": {
        "id": "nyaa5jJ-04Vp"
      }
    }
  ]
}