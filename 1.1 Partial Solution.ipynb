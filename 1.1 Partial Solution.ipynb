{
  "cells": [
    {
      "cell_type": "markdown",
      "metadata": {
        "id": "48Jb_J3-OaDW"
      },
      "source": [
        "# Training a Simple Image Classifier using Convolutional Neural Networks \n",
        "\n",
        "## Identifying Handwritten Digits (MNIST)\n",
        "\n",
        "__Objective__: Create a CNN (Convolutional Neural Network) model. Use this model to classify handwritten digits.\n",
        "\n",
        "__Workflow__:\n",
        "1.  Load in the `MNIST` dataset and examine its structure.\n",
        "    - Use any library to load the MNIST dataset (included with both TensorFlow and PyTorch modules).\n",
        "    - Take a closer look at the data inspecting it's size, shape, and quantity.\n",
        "    - View some random samples using either OpenCV or Matplotlib (or others) of the handwritten digits and observe the complexity of the images. Do you have any issues identify these written numbers?\n",
        "2.  2.  Using `numpy` or other libraries prepare your dataset for training.\n",
        "    - Ensure the format or shape of the data is appropriate for input into your model (one-hot-encoding is needed for the labels)\n",
        "    - Ensure data types are correct and that data is normalized. \n",
        "3.  Create a CNN with these specifications:\n",
        "    - Input Dimensions of 28 x 28 x 1 \n",
        "    - Two Convolution Layers (Kernel Size 3x3). The first with 64 filters, the second with 32. Use `ReLU` as the activation layer.\n",
        "    - Max Pooling of size 2 x 2\n",
        "    - Dropout Rate of 0.25\n",
        "    - Add a Dense Layer comprising of 128 outputs\n",
        "    - Add another Dropout Layer using a rate setting of 0.5\n",
        "    - Add the final Dropout Layer that indicates the class probabilities\n",
        "4.  Train this CNN on the `MNIST` dataset your prepared in Step 2\n",
        "    - Train for at least 10 Epochs using a batch size of 32\n",
        "5.  Plot graphs showing how your training and validation loss and accuracy changed with respect to the Epochs completed. \n",
        "6.  Save your model, you will be using it in the second milestone.\n",
        "7.  Test your model on some random samples from the test dataset.\n",
        "\n",
        "__Deliverable__:\n",
        "\n",
        "The deliverable is a Jupyter Notebook documenting your workflow as you take the `MNIST` dataset, view samples, convert it into the right shape/format as required by your deep learning library. You are required to train the model using the specifications provided. You should save your model as you'll need it for further analysis in the second milestone."
      ]
    },
    {
      "cell_type": "markdown",
      "metadata": {
        "id": "TOzgBzQez4LU"
      },
      "source": [
        "#Resources\n",
        "Deep Learning with Python, Second Edition \n",
        "- 1.2 [Chapter 5 Deep learning for computer vision](https://livebook.manning.com/book/deep-learning-with-python/chapter-5/1\n",
        ")\n",
        "    - 5.1 Introduction to covnets\n",
        "        - 5.1.1 The convolution operation\n",
        "        - 5.1.2 The max-pooling operation\n",
        "\n"
      ]
    },
    {
      "cell_type": "markdown",
      "metadata": {
        "id": "rf8W1evGYQi6"
      },
      "source": [
        "### Load our Handwritten Digit Dataset (MNIST)"
      ]
    },
    {
      "cell_type": "code",
      "execution_count": 4,
      "metadata": {
        "id": "JPCKPHUQYHjl"
      },
      "outputs": [],
      "source": [
        "from tensorflow.keras.datasets import mnist\n",
        "\n",
        "# Loads the MNIST dataset\n",
        "(x_train, y_train), (x_test, y_test) = mnist.load_data()"
      ]
    },
    {
      "cell_type": "code",
      "execution_count": 5,
      "metadata": {
        "id": "Cc7gP_ZBYW9m",
        "outputId": "0e63e833-0c9b-4b66-f418-b377c52d561a",
        "colab": {
          "base_uri": "https://localhost:8080/"
        }
      },
      "outputs": [
        {
          "output_type": "stream",
          "name": "stdout",
          "text": [
            "(60000, 28, 28) (60000,) (10000, 28, 28) (10000,)\n"
          ]
        }
      ],
      "source": [
        "# Display the number of samples in x_train, x_test, y_train, y_test\n",
        "from numpy import shape\n",
        "print(x_train.shape, y_train.shape, x_test.shape, y_test.shape)"
      ]
    },
    {
      "cell_type": "markdown",
      "metadata": {
        "id": "wmRVz_88Y-0O"
      },
      "source": [
        "### Let's take a look at some of images in this dataset\n"
      ]
    },
    {
      "cell_type": "code",
      "execution_count": 6,
      "metadata": {
        "id": "wuK2GCKuZIzV",
        "outputId": "accc8459-5f82-47fe-d500-5f7b76dd3d72",
        "colab": {
          "base_uri": "https://localhost:8080/",
          "height": 268
        }
      },
      "outputs": [
        {
          "output_type": "display_data",
          "data": {
            "image/png": "[encoded data removed]",
            "text/plain": [
              "<Figure size 432x288 with 9 Axes>"
            ]
          },
          "metadata": {
            "needs_background": "light"
          }
        }
      ],
      "source": [
        "# importing matplotlib\n",
        "# You may need to run this twice as matplotlib doesn't generate the plot in the same cell where it was imported\n",
        "import matplotlib.pyplot as plt\n",
        "\n",
        "# Plots 6 images, note subplot's arugments are nrows,ncols,index\n",
        "# we set the color map to grey since our image dataset is grayscale\n",
        "for i in range(9):  \n",
        " plt.subplot(330 + 1 + i)\n",
        " plt.imshow(x_train[i], cmap=plt.get_cmap('gray'))\n",
        "\n",
        "# Display out plots\n",
        "plt.show()"
      ]
    },
    {
      "cell_type": "markdown",
      "metadata": {
        "id": "Ww2LHzS4ZYup"
      },
      "source": [
        "### Preparing our dataset for Keras\n",
        "\n",
        "- Keras requires our input data as a 4-Dimensional shape of (60000,28,28,1). When we initially loaded our data, x_train was (60000,28,28).\n",
        "- We needs our labels to be one-hot-encoded"
      ]
    },
    {
      "cell_type": "code",
      "execution_count": 7,
      "metadata": {
        "id": "xGzKLgziZNST",
        "outputId": "b81caa17-69a7-4d23-ebf0-d1a6b99874b5",
        "colab": {
          "base_uri": "https://localhost:8080/"
        }
      },
      "outputs": [
        {
          "output_type": "stream",
          "name": "stdout",
          "text": [
            "(28, 28, 1)\n"
          ]
        }
      ],
      "source": [
        "# Lets store the number of rows and columns\n",
        "width, height = x_train.shape[1], x_train.shape[2]\n",
        "\n",
        "# Getting our data in the right 'shape' needed for Keras\n",
        "# We need to add a 4th dimenion to our data thereby changing our\n",
        "# Our original image shape of (60000,28,28) to (60000,28,28,1)\n",
        "x_train = x_train.reshape((x_train.shape[0], width, height, 1))\n",
        "x_test = x_test.reshape((x_test.shape[0], width, height, 1))\n",
        "# store the shape of a single image for future use as a variable storing our input shape\n",
        "input_shape = x_train[0].shape\n",
        "print(input_shape)\n",
        "\n",
        "# change our image type to float32 data type\n",
        "x_train = x_train.astype('float32')\n",
        "x_test = x_test.astype('float32')\n",
        "# Normalize our data by changing the range from (0 to 255) to (0 to 1)\n",
        "x_train = x_train / 255\n",
        "x_test = x_test / 255\n"
      ]
    },
    {
      "cell_type": "markdown",
      "metadata": {
        "id": "HbccRjDKZ_ft"
      },
      "source": [
        "#### Performing one-hot-econding of our data labels"
      ]
    },
    {
      "cell_type": "code",
      "execution_count": 10,
      "metadata": {
        "id": "kv-ekVjGZ4Lk",
        "outputId": "bc1316e6-ceb2-435a-ea48-bdc849388c3d",
        "colab": {
          "base_uri": "https://localhost:8080/"
        }
      },
      "outputs": [
        {
          "output_type": "stream",
          "name": "stdout",
          "text": [
            "(60000, 10)\n",
            "(10000, 10)\n"
          ]
        }
      ],
      "source": [
        "from tensorflow.keras.utils import to_categorical\n",
        "\n",
        "# Now we one hot encode outputs\n",
        "y_train = to_categorical(y_train)\n",
        "y_test = to_categorical(y_test)\n",
        "# Let's count the number columns in our hot encoded matrix \n",
        "print(shape(y_train))\n",
        "print(shape(y_test))\n",
        "\n",
        "num_classes = y_test.shape[1]"
      ]
    },
    {
      "cell_type": "markdown",
      "metadata": {
        "id": "0nPdAzzsaTlq"
      },
      "source": [
        "# Creating our Convolution Neural Network Model\n",
        "\n",
        "![alt text](https://raw.githubusercontent.com/rajeevratan84/MasterOpenCV/master/CNN2.JPG \"Our Convolutional Neural Network\")\n"
      ]
    },
    {
      "cell_type": "code",
      "execution_count": 11,
      "metadata": {
        "id": "b9SWncmYaG_c",
        "scrolled": true,
        "outputId": "4cad21aa-839d-460a-b87d-384198a18259",
        "colab": {
          "base_uri": "https://localhost:8080/"
        }
      },
      "outputs": [
        {
          "output_type": "stream",
          "name": "stdout",
          "text": [
            "Model: \"sequential_3\"\n",
            "_________________________________________________________________\n",
            " Layer (type)                Output Shape              Param #   \n",
            "=================================================================\n",
            " conv2d_4 (Conv2D)           (None, 26, 26, 32)        320       \n",
            "                                                                 \n",
            " conv2d_5 (Conv2D)           (None, 24, 24, 64)        18496     \n",
            "                                                                 \n",
            " max_pooling2d_2 (MaxPooling  (None, 12, 12, 64)       0         \n",
            " 2D)                                                             \n",
            "                                                                 \n",
            " dropout_4 (Dropout)         (None, 12, 12, 64)        0         \n",
            "                                                                 \n",
            " flatten_2 (Flatten)         (None, 9216)              0         \n",
            "                                                                 \n",
            " dense_3 (Dense)             (None, 128)               1179776   \n",
            "                                                                 \n",
            " dropout_5 (Dropout)         (None, 128)               0         \n",
            "                                                                 \n",
            " dense_4 (Dense)             (None, 10)                1290      \n",
            "                                                                 \n",
            "=================================================================\n",
            "Total params: 1,199,882\n",
            "Trainable params: 1,199,882\n",
            "Non-trainable params: 0\n",
            "_________________________________________________________________\n",
            "None\n"
          ]
        }
      ],
      "source": [
        "from tensorflow.keras.models import Sequential\n",
        "from tensorflow.keras.layers import Dense, Dropout, Flatten\n",
        "from tensorflow.keras.layers import Conv2D, MaxPooling2D\n",
        "from tensorflow.keras import backend as K\n",
        "from tensorflow.keras.optimizers import SGD \n",
        "\n",
        "# create model\n",
        "model = Sequential()\n",
        "\n",
        "# Our First Convolution Layer, Filter size 32 which reduces our layer size to 26 x 26 x 32\n",
        "# We use ReLU activation and specify our input_shape which is 28 x 28 x 1\n",
        "model.add(Conv2D(32, kernel_size=(3, 3), activation='relu', input_shape=input_shape))\n",
        "\n",
        "# Our Second Convolution Layer, Filter size 64 which reduces our layer size to 24 x 24 x 64\n",
        "model.add(Conv2D(64, (3, 3), activation='relu'))\n",
        "\n",
        "# We use MaxPooling with a kernel size of 2 x 2, this reduces our size to 12 x 12 x 64\n",
        "model.add(MaxPooling2D(pool_size=(2, 2)))\n",
        "\n",
        "# We use a dropout P setting of 0.25 to reduce overfitting\n",
        "model.add(Dropout(0.25))\n",
        "\n",
        "# We then Flatten our tensor object before input into our Dense Layer\n",
        "# A flatten operation on a tensor reshapes the tensor to have the shape that is \n",
        "# equal to the number of elements contained in tensor\n",
        "# In our CNN it goes from 12 * 12 * 64 to 9216 * 1\n",
        "model.add(Flatten())\n",
        "\n",
        "# We connect this layer to a Fully Connected/Dense layer of size 1 * 128\n",
        "model.add(Dense(128, activation='relu'))\n",
        "\n",
        "# We use another Dropout layer\n",
        "model.add(Dropout(0.5))\n",
        "\n",
        "# We create our final Fully Connected/Dense layer with an output for each class (10)\n",
        "model.add(Dense(num_classes, activation='softmax'))\n",
        "\n",
        "# We compile our model, this creates an object that stores the model we just created\n",
        "# We set our Optimizer to use Stochastic Gradient Descent (learning rate of 0.01)\n",
        "# We set our loss function to be categorical_crossentropy as it's suitable for multiclass problems\n",
        "# Finally, the metrics (What we judge our performance on) to be accuracy\n",
        "model.compile(loss = 'categorical_crossentropy',\n",
        "              optimizer = SGD(0.01),\n",
        "              metrics = ['accuracy'])\n",
        "\n",
        "# We can use the summary function to display our model layers and parameters\n",
        "print(model.summary())"
      ]
    },
    {
      "cell_type": "markdown",
      "metadata": {
        "id": "MBBYhsHhaiGG"
      },
      "source": [
        "# Training our CNN"
      ]
    },
    {
      "cell_type": "code",
      "execution_count": 12,
      "metadata": {
        "id": "3wBbT1Ibac3Z",
        "colab": {
          "base_uri": "https://localhost:8080/"
        },
        "outputId": "52d880de-88ee-439c-a4df-d25b079e96fd"
      },
      "outputs": [
        {
          "output_type": "stream",
          "name": "stdout",
          "text": [
            "Epoch 1/10\n",
            "1875/1875 [==============================] - 18s 4ms/step - loss: 0.5905 - accuracy: 0.8160 - val_loss: 0.1925 - val_accuracy: 0.9435\n",
            "Epoch 2/10\n",
            "1875/1875 [==============================] - 7s 4ms/step - loss: 0.2818 - accuracy: 0.9143 - val_loss: 0.1363 - val_accuracy: 0.9601\n",
            "Epoch 3/10\n",
            "1875/1875 [==============================] - 8s 4ms/step - loss: 0.2167 - accuracy: 0.9359 - val_loss: 0.1002 - val_accuracy: 0.9698\n",
            "Epoch 4/10\n",
            "1875/1875 [==============================] - 7s 4ms/step - loss: 0.1712 - accuracy: 0.9500 - val_loss: 0.0838 - val_accuracy: 0.9743\n",
            "Epoch 5/10\n",
            "1875/1875 [==============================] - 8s 4ms/step - loss: 0.1395 - accuracy: 0.9585 - val_loss: 0.0659 - val_accuracy: 0.9793\n",
            "Epoch 6/10\n",
            "1875/1875 [==============================] - 8s 4ms/step - loss: 0.1210 - accuracy: 0.9638 - val_loss: 0.0569 - val_accuracy: 0.9829\n",
            "Epoch 7/10\n",
            "1875/1875 [==============================] - 8s 4ms/step - loss: 0.1055 - accuracy: 0.9689 - val_loss: 0.0543 - val_accuracy: 0.9826\n",
            "Epoch 8/10\n",
            "1875/1875 [==============================] - 7s 4ms/step - loss: 0.0964 - accuracy: 0.9713 - val_loss: 0.0470 - val_accuracy: 0.9847\n",
            "Epoch 9/10\n",
            "1875/1875 [==============================] - 8s 4ms/step - loss: 0.0858 - accuracy: 0.9747 - val_loss: 0.0424 - val_accuracy: 0.9856\n",
            "Epoch 10/10\n",
            "1875/1875 [==============================] - 7s 4ms/step - loss: 0.0800 - accuracy: 0.9760 - val_loss: 0.0410 - val_accuracy: 0.9876\n"
          ]
        }
      ],
      "source": [
        "batch_size = 32\n",
        "epochs = 10\n",
        "from tensorflow.keras.callbacks import History\n",
        "\n",
        "# Store our results here so we can plot later\n",
        "# In our fit function we specify our datsets (x_train & y_train), \n",
        "# the batch size (typically 16 to 128 depending on your RAM), the number of \n",
        "# epochs (usually 10 to 100) and our validation datasets (x_test & y_test)\n",
        "# verbose = 1, sets our training to output performance metrics every epoch\n",
        "history = model.fit(x_train, y_train, batch_size, epochs, validation_data=(x_test, y_test))\n",
        "\n",
        "# We obtain our accuracy score using the evalute function\n",
        "test_loss, test_acc = model.evaluate(x_test, y_test, verbose=0)"
      ]
    },
    {
      "cell_type": "markdown",
      "metadata": {
        "id": "OqkB5WX1b4Qm"
      },
      "source": [
        "## Plotting our training progress \n",
        "Plot our Loss vs Epochs"
      ]
    },
    {
      "cell_type": "code",
      "execution_count": 14,
      "metadata": {
        "id": "BLehBruxbWL_",
        "outputId": "e0f01750-f7a3-4b41-8184-8b96ea410ed2",
        "colab": {
          "base_uri": "https://localhost:8080/",
          "height": 284
        }
      },
      "outputs": [
        {
          "output_type": "stream",
          "name": "stdout",
          "text": [
            "dict_keys(['loss', 'accuracy', 'val_loss', 'val_accuracy'])\n"
          ]
        },
        {
          "output_type": "display_data",
          "data": {
            "image/png": "[encoded data removed]",
            "text/plain": [
              "<Figure size 432x288 with 1 Axes>"
            ]
          },
          "metadata": {
            "needs_background": "light"
          }
        }
      ],
      "source": [
        "# Plotting our loss charts\n",
        "\n",
        "# Use the History object we created to get our saved performance results\n",
        "print(history.history.keys())\n",
        "\n",
        "# Extract the loss and validation losses\n",
        "loss = history.history['loss']\n",
        "val_loss = history.history['val_loss']\n",
        "# Get the number of epochs and create an array up to that number using range()\n",
        "epoch_range = range(epochs)\n",
        "# Plot line charts for both Validation and Training Loss\n",
        "plt.plot(loss, label = 'Training Loss')\n",
        "plt.plot(val_loss, label = 'val_loss')\n",
        "plt.legend()\n",
        "plt.show()"
      ]
    },
    {
      "cell_type": "code",
      "execution_count": 15,
      "metadata": {
        "id": "hYW1_JhibuCp",
        "outputId": "980f4fbd-a8f6-4390-a134-2d6bc9cd5cfa",
        "colab": {
          "base_uri": "https://localhost:8080/",
          "height": 297
        }
      },
      "outputs": [
        {
          "output_type": "stream",
          "name": "stdout",
          "text": [
            "[0.9434999823570251, 0.960099995136261, 0.9697999954223633, 0.9743000268936157, 0.9793000221252441, 0.9829000234603882, 0.9825999736785889, 0.9847000241279602, 0.9855999946594238, 0.9876000285148621]\n"
          ]
        },
        {
          "output_type": "display_data",
          "data": {
            "image/png": "[encoded data removed]",
            "text/plain": [
              "<Figure size 432x288 with 1 Axes>"
            ]
          },
          "metadata": {
            "needs_background": "light"
          }
        }
      ],
      "source": [
        "accuracy = history.history['accuracy']\n",
        "val_accuracy = history.history['val_accuracy']\n",
        "print(val_accuracy)\n",
        "# Plotting our accuracy charts\n",
        "plt.plot(accuracy, label='accuracy')\n",
        "plt.plot(val_accuracy, label = 'val_accuracy')\n",
        "plt.xlabel('Epoch')\n",
        "plt.ylabel('Accuracy')\n",
        "plt.legend(loc='lower right')\n",
        "\n",
        "plt.show()"
      ]
    },
    {
      "cell_type": "markdown",
      "metadata": {
        "id": "ebieT6LnuoH9"
      },
      "source": [
        "## Saving and loading your model"
      ]
    },
    {
      "cell_type": "code",
      "execution_count": null,
      "metadata": {
        "id": "90K_VEWRbw1g",
        "outputId": "ec6c1f8c-5681-4992-f4b8-7cc352f041e4"
      },
      "outputs": [
        {
          "name": "stdout",
          "output_type": "stream",
          "text": [
            "INFO:tensorflow:Assets written to: model1.1/assets\n"
          ]
        }
      ],
      "source": [
        "from tensorflow.keras.models import load_model\n",
        "model.save('model1.1')\n",
        "del model"
      ]
    },
    {
      "cell_type": "code",
      "execution_count": null,
      "metadata": {
        "id": "6GSpUPg_uvkt"
      },
      "outputs": [],
      "source": [
        "model = load_model('model1.1')"
      ]
    },
    {
      "cell_type": "markdown",
      "metadata": {
        "id": "NXClhjBNvjO3"
      },
      "source": [
        "# Testing out Model on some random Test Data"
      ]
    },
    {
      "cell_type": "code",
      "execution_count": 16,
      "metadata": {
        "id": "3TFuBHwbvemo",
        "outputId": "f7d9eec5-94e1-4a98-de4a-4fe0f7846fa3",
        "colab": {
          "base_uri": "https://localhost:8080/",
          "height": 241
        }
      },
      "outputs": [
        {
          "output_type": "stream",
          "name": "stdout",
          "text": [
            "1\t0\t3\t1\t4\t"
          ]
        },
        {
          "output_type": "display_data",
          "data": {
            "image/png": "[encoded data removed]",
            "text/plain": [
              "<Figure size 1440x1440 with 5 Axes>"
            ]
          },
          "metadata": {
            "needs_background": "light"
          }
        }
      ],
      "source": [
        "import numpy as np\n",
        "\n",
        "figure = plt.figure(figsize=(20,20))\n",
        "\n",
        "for i in range(5):\n",
        "    figure.add_subplot(1,5,i+1)\n",
        "    random_idx = np.random.randint(0,len(x_test))\n",
        "    plt.imshow(x_test[random_idx,:,:,0],cmap=\"gray\")\n",
        "    plt.axis(\"off\")\n",
        "    print(np.squeeze(np.argmax(model.predict(x_test[random_idx].reshape(1,28,28,1)),axis=1),axis=0),end=\"\\t\")"
      ]
    },
    {
      "cell_type": "markdown",
      "metadata": {
        "id": "Nx_a3d7IwkTi"
      },
      "source": [
        "# Summary\n",
        "\n",
        "In this notebook we:\n",
        "\n",
        "* Loaded the MNIST Dataset\n",
        "* Trained a Convolutional Neural Network on the MNIST dataset\n",
        "* Tested our model on some of test data\n",
        "\n",
        "The end deliverable from this section is a trained CNN using the architecture described for at least 10 epochs. The expected accuracy of your model should be at least 98%. In the next section, we will use the model you saved and try to understand what the model actually 'learnt'."
      ]
    }
  ],
  "metadata": {
    "accelerator": "GPU",
    "colab": {
      "collapsed_sections": [],
      "name": "1_1_Partial_Solution_Milestone_1_Create_a_CNN_model_to_classify_handwritten_digits_using_TensorFlow_2.ipynb",
      "provenance": []
    },
    "kernelspec": {
      "display_name": "Python 3",
      "language": "python",
      "name": "python3"
    },
    "language_info": {
      "codemirror_mode": {
        "name": "ipython",
        "version": 3
      },
      "file_extension": ".py",
      "mimetype": "text/x-python",
      "name": "python",
      "nbconvert_exporter": "python",
      "pygments_lexer": "ipython3",
      "version": "3.8.8"
    }
  },
  "nbformat": 4,
  "nbformat_minor": 0
}