{
 "cells": [
  {
   "cell_type": "markdown",
   "metadata": {
    "id": "48Jb_J3-OaDW"
   },
   "source": [
    "# Training a Simple Image Classifier using Convolutional Neural Networks \n",
    "\n",
    "## Identifying Handwritten Digits (MNIST)\n",
    "\n",
    "__Objective__: Create a CNN (Convolutional Neural Network) model. Use this model to classify handwritten digits.\n",
    "\n",
    "__Workflow__:\n",
    "1.  Load in the `MNIST` dataset and examine its structure.\n",
    "    - Use any library to load the MNIST dataset (included with both TensorFlow and PyTorch modules).\n",
    "    - Take a closer look at the data inspecting it's size, shape, and quantity.\n",
    "    - View some random samples using either OpenCV or Matplotlib (or others) of the handwritten digits and observe the complexity of the images. Do you have any issues identify these written numbers?\n",
    "2.  2.  Using `numpy` or other libraries prepare your dataset for training.\n",
    "    - Ensure the format or shape of the data is appropriate for input into your model (one-hot-encoding is needed for the labels)\n",
    "    - Ensure data types are correct and that data is normalized. \n",
    "3.  Create a CNN with these specifications:\n",
    "    - Input Dimensions of 28 x 28 x 1 \n",
    "    - Two Convolution Layers (Kernel Size 3x3). The first with 64 filters, the second with 32. Use `ReLU` as the activation layer.\n",
    "    - Max Pooling of size 2 x 2\n",
    "    - Dropout Rate of 0.25\n",
    "    - Add a Dense Layer comprising of 128 outputs\n",
    "    - Add another Dropout Layer using a rate setting of 0.5\n",
    "    - Add the final Dropout Layer that indicates the class probabilities\n",
    "4.  Train this CNN on the `MNIST` dataset your prepared in Step 2\n",
    "    - Train for at least 10 Epochs using a batch size of 32\n",
    "5.  Plot graphs showing how your training and validation loss and accuracy changed with respect to the Epochs completed. \n",
    "6.  Save your model, you will be using it in the second milestone.\n",
    "7.  Test your model on some random samples from the test dataset.\n",
    "\n",
    "__Deliverable__:\n",
    "\n",
    "The deliverable is a Jupyter Notebook documenting your workflow as you take the `MNIST` dataset, view samples, convert it into the right shape/format as required by your deep learning library. You are required to train the model using the specifications provided. You should save your model as you'll need it for further analysis in the second milestone."
   ]
  },
  {
   "cell_type": "markdown",
   "metadata": {
    "id": "TOzgBzQez4LU"
   },
   "source": [
    "#Resources\n",
    "Deep Learning with Python, Second Edition \n",
    "- 1.2 [Chapter 5 Deep learning for computer vision](https://livebook.manning.com/book/deep-learning-with-python/chapter-5/1\n",
    ")\n",
    "    - 5.1 Introduction to covnets\n",
    "        - 5.1.1 The convolution operation\n",
    "        - 5.1.2 The max-pooling operation\n",
    "\n"
   ]
  },
  {
   "cell_type": "markdown",
   "metadata": {
    "id": "rf8W1evGYQi6"
   },
   "source": [
    "### Load our Handwritten Digit Dataset (MNIST)"
   ]
  },
  {
   "cell_type": "code",
   "execution_count": 1,
   "metadata": {
    "id": "JPCKPHUQYHjl"
   },
   "outputs": [],
   "source": [
    "from tensorflow.keras.datasets import mnist\n",
    "\n",
    "# Loads the MNIST dataset\n",
    "(x_train, y_train), (x_test, y_test) = mnist.load_data()"
   ]
  },
  {
   "cell_type": "code",
   "execution_count": 2,
   "metadata": {
    "id": "Cc7gP_ZBYW9m"
   },
   "outputs": [
    {
     "name": "stdout",
     "output_type": "stream",
     "text": [
      "(60000, 28, 28) (60000,) (10000, 28, 28) (10000,)\n"
     ]
    }
   ],
   "source": [
    "# Display the number of samples in x_train, x_test, y_train, y_test\n",
    "from numpy import shape\n",
    "print(x_train.shape, y_train.shape, x_test.shape, y_test.shape)"
   ]
  },
  {
   "cell_type": "markdown",
   "metadata": {
    "id": "wmRVz_88Y-0O"
   },
   "source": [
    "### Let's take a look at some of images in this dataset\n"
   ]
  },
  {
   "cell_type": "code",
   "execution_count": 3,
   "metadata": {
    "id": "wuK2GCKuZIzV"
   },
   "outputs": [
    {
     "data": {
      "image/png": "[encoded data removed]",
      "text/plain": [
       "<Figure size 432x288 with 9 Axes>"
      ]
     },
     "metadata": {
      "needs_background": "light"
     },
     "output_type": "display_data"
    }
   ],
   "source": [
    "# importing matplotlib\n",
    "# You may need to run this twice as matplotlib doesn't generate the plot in the same cell where it was imported\n",
    "import matplotlib.pyplot as plt\n",
    "\n",
    "# Plots 6 images, note subplot's arugments are nrows,ncols,index\n",
    "# we set the color map to grey since our image dataset is grayscale\n",
    "for i in range(9):  \n",
    " plt.subplot(330 + 1 + i)\n",
    " plt.imshow(x_train[i], cmap=plt.get_cmap('gray'))\n",
    "\n",
    "# Display out plots\n",
    "plt.show()"
   ]
  },
  {
   "cell_type": "markdown",
   "metadata": {
    "id": "Ww2LHzS4ZYup"
   },
   "source": [
    "### Preparing our dataset for Keras\n",
    "\n",
    "- Keras requires our input data as a 4-Dimensional shape of (60000,28,28,1). When we initially loaded our data, x_train was (60000,28,28).\n",
    "- We needs our labels to be one-hot-encoded"
   ]
  },
  {
   "cell_type": "code",
   "execution_count": 16,
   "metadata": {
    "id": "xGzKLgziZNST"
   },
   "outputs": [
    {
     "name": "stdout",
     "output_type": "stream",
     "text": [
      "(28, 28, 1)\n"
     ]
    }
   ],
   "source": [
    "# Lets store the number of rows and columns\n",
    "width, height = x_train.shape[1], x_train.shape[2]\n",
    "\n",
    "# Getting our data in the right 'shape' needed for Keras\n",
    "# We need to add a 4th dimenion to our data thereby changing our\n",
    "# Our original image shape of (60000,28,28) to (60000,28,28,1)\n",
    "x_train = x_train.reshape((x_train.shape[0], width, height, 1))\n",
    "x_test = x_test.reshape((x_test.shape[0], width, height, 1))\n",
    "# store the shape of a single image for future use as a variable storing our input shape\n",
    "input_shape = x_train[0].shape\n",
    "print(input_shape)\n",
    "\n",
    "# change our image type to float32 data type\n",
    "x_train = x_train.astype('float32')\n",
    "x_test = x_test.astype('float32')\n",
    "# Normalize our data by changing the range from (0 to 255) to (0 to 1)\n",
    "x_train = x_train / 255\n",
    "x_test = x_test / 255\n"
   ]
  },
  {
   "cell_type": "markdown",
   "metadata": {
    "id": "HbccRjDKZ_ft"
   },
   "source": [
    "#### Performing one-hot-econding of our data labels"
   ]
  },
  {
   "cell_type": "code",
   "execution_count": 19,
   "metadata": {
    "id": "kv-ekVjGZ4Lk"
   },
   "outputs": [
    {
     "name": "stdout",
     "output_type": "stream",
     "text": [
      "(60000, 10, 2, 2, 2)\n",
      "(10000, 10, 2, 2, 2)\n"
     ]
    }
   ],
   "source": [
    "from tensorflow.keras.utils import to_categorical\n",
    "\n",
    "# Now we one hot encode outputs\n",
    "y_train = to_categorical(y_train)\n",
    "y_test = to_categorical(y_test)\n",
    "# Let's count the number columns in our hot encoded matrix \n",
    "print(shape(y_train))\n",
    "print(shape(y_test))"
   ]
  },
  {
   "cell_type": "markdown",
   "metadata": {
    "id": "0nPdAzzsaTlq"
   },
   "source": [
    "# Creating our Convolution Neural Network Model\n",
    "\n",
    "![alt text](https://raw.githubusercontent.com/rajeevratan84/MasterOpenCV/master/CNN2.JPG \"Our Convolutional Neural Network\")\n"
   ]
  },
  {
   "cell_type": "code",
   "execution_count": 6,
   "metadata": {
    "id": "b9SWncmYaG_c",
    "scrolled": true
   },
   "outputs": [
    {
     "name": "stdout",
     "output_type": "stream",
     "text": [
      "Model: \"sequential\"\n",
      "_________________________________________________________________\n",
      " Layer (type)                Output Shape              Param #   \n",
      "=================================================================\n",
      " conv2d (Conv2D)             (None, 26, 26, 32)        320       \n",
      "                                                                 \n",
      " conv2d_1 (Conv2D)           (None, 24, 24, 64)        18496     \n",
      "                                                                 \n",
      " max_pooling2d (MaxPooling2D  (None, 12, 12, 64)       0         \n",
      " )                                                               \n",
      "                                                                 \n",
      " dropout (Dropout)           (None, 12, 12, 64)        0         \n",
      "                                                                 \n",
      " flatten (Flatten)           (None, 9216)              0         \n",
      "                                                                 \n",
      " dense (Dense)               (None, 128)               1179776   \n",
      "                                                                 \n",
      " dropout_1 (Dropout)         (None, 128)               0         \n",
      "                                                                 \n",
      " dense_1 (Dense)             (None, 10)                1290      \n",
      "                                                                 \n",
      "=================================================================\n",
      "Total params: 1,199,882\n",
      "Trainable params: 1,199,882\n",
      "Non-trainable params: 0\n",
      "_________________________________________________________________\n"
     ]
    }
   ],
   "source": [
    "from tensorflow.keras import models\n",
    "from tensorflow.keras import layers\n",
    "# create model\n",
    "model = models.Sequential()\n",
    "\n",
    "# Our First Convolution Layer, Filter size 32 which reduces our layer size to 26 x 26 x 32\n",
    "# We use ReLU activation and specify our input_shape which is 28 x 28 x 1\n",
    "model.add(layers.Conv2D(32, kernel_size=(3, 3), activation='relu', input_shape=input_shape))\n",
    "\n",
    "# Our Second Convolution Layer, Filter size 64 which reduces our layer size to 24 x 24 x 64\n",
    "model.add(layers.Conv2D(64, kernel_size=(3,3), activation='relu'))\n",
    "\n",
    "# We use MaxPooling with a kernel size of 2 x 2, this reduces our size to 12 x 12 x 64\n",
    "model.add(layers.MaxPooling2D((2,2)))\n",
    "\n",
    "# We use a dropout P setting of 0.25 to reduce overfitting\n",
    "model.add(layers.Dropout(0.25))\n",
    "\n",
    "# We then Flatten our tensor object before input into our Dense Layer\n",
    "# A flatten operation on a tensor reshapes the tensor to have the shape that is \n",
    "# equal to the number of elements contained in tensor\n",
    "# In our CNN it goes from 12 * 12 * 64 to 9216 * 1\n",
    "model.add(layers.Flatten())\n",
    "\n",
    "# We connect this layer to a Fully Connected/Dense layer of size 1 * 128\n",
    "model.add(layers.Dense(1*128))\n",
    "\n",
    "# We use another Dropout layer\n",
    "model.add(layers.Dropout(0.5))\n",
    "\n",
    "# We create our final Fully Connected/Dense layer with an output for each class (10)\n",
    "model.add(layers.Dense(10))\n",
    "\n",
    "# We compile our model, this creates an object that stores the model we just created\n",
    "# We set our Optimizer to use Stochastic Gradient Descent (learning rate of 0.01)\n",
    "# We set our loss function to be categorical_crossentropy as it's suitable for multiclass problems\n",
    "# Finally, the metrics (What we judge our performance on) to be accuracy\n",
    "model.compile(optimizer='SGD',\n",
    "             loss='categorical_crossentropy',\n",
    "              metrics=['accuracy'])\n",
    "\n",
    "# We can use the summary function to display our model layers and parameters\n",
    "model.summary()"
   ]
  },
  {
   "cell_type": "markdown",
   "metadata": {
    "id": "MBBYhsHhaiGG"
   },
   "source": [
    "# Training our CNN"
   ]
  },
  {
   "cell_type": "code",
   "execution_count": 7,
   "metadata": {
    "id": "3wBbT1Ibac3Z"
   },
   "outputs": [
    {
     "name": "stdout",
     "output_type": "stream",
     "text": [
      "Epoch 1/10\n",
      "1875/1875 [==============================] - 85s 45ms/step - loss: 9.3982 - accuracy: 0.1297 - val_loss: 12.3336 - val_accuracy: 0.1676\n",
      "Epoch 2/10\n",
      "1875/1875 [==============================] - 66s 35ms/step - loss: 10.0252 - accuracy: 0.1340 - val_loss: 12.3835 - val_accuracy: 0.1739\n",
      "Epoch 3/10\n",
      "1875/1875 [==============================] - 65s 35ms/step - loss: 10.0878 - accuracy: 0.1341 - val_loss: 12.7252 - val_accuracy: 0.2049\n",
      "Epoch 4/10\n",
      "1875/1875 [==============================] - 65s 35ms/step - loss: 10.3815 - accuracy: 0.1365 - val_loss: 12.1966 - val_accuracy: 0.2579\n",
      "Epoch 5/10\n",
      "1875/1875 [==============================] - 66s 35ms/step - loss: 10.3426 - accuracy: 0.1367 - val_loss: 12.9106 - val_accuracy: 0.3204\n",
      "Epoch 6/10\n",
      "1875/1875 [==============================] - 67s 35ms/step - loss: 9.9673 - accuracy: 0.1334 - val_loss: 12.7043 - val_accuracy: 0.3121\n",
      "Epoch 7/10\n",
      "1875/1875 [==============================] - 67s 36ms/step - loss: 5.4239 - accuracy: 0.0874 - val_loss: 2.0536 - val_accuracy: 0.0116\n",
      "Epoch 8/10\n",
      "1875/1875 [==============================] - 68s 36ms/step - loss: 2.7058 - accuracy: 0.1040 - val_loss: 2.3894 - val_accuracy: 0.0877\n",
      "Epoch 9/10\n",
      "1875/1875 [==============================] - 70s 37ms/step - loss: 2.4273 - accuracy: 0.0947 - val_loss: 2.3222 - val_accuracy: 0.0892\n",
      "Epoch 10/10\n",
      "1875/1875 [==============================] - 67s 35ms/step - loss: 2.4216 - accuracy: 0.0957 - val_loss: 2.2935 - val_accuracy: 0.0980\n",
      "313/313 - 2s - loss: 2.2935 - accuracy: 0.0980 - 2s/epoch - 7ms/step\n"
     ]
    }
   ],
   "source": [
    "batch_size = 32\n",
    "epochs = 10\n",
    "from tensorflow.keras.callbacks import History\n",
    "\n",
    "# Store our results here so we can plot later\n",
    "# In our fit function we specify our datsets (x_train & y_train), \n",
    "# the batch size (typically 16 to 128 depending on your RAM), the number of \n",
    "# epochs (usually 10 to 100) and our validation datasets (x_test & y_test)\n",
    "# verbose = 1, sets our training to output performance metrics every epoch\n",
    "history = model.fit(x_train, y_train, batch_size, epochs, validation_data=(x_test, y_test))\n",
    "\n",
    "# We obtain our accuracy score using the evalute function\n",
    "test_loss, test_acc = model.evaluate(x_test, y_test, verbose=1)"
   ]
  },
  {
   "cell_type": "markdown",
   "metadata": {
    "id": "OqkB5WX1b4Qm"
   },
   "source": [
    "## Plotting our training progress \n",
    "Plot our Loss vs Epochs"
   ]
  },
  {
   "cell_type": "code",
   "execution_count": 8,
   "metadata": {
    "id": "BLehBruxbWL_"
   },
   "outputs": [
    {
     "name": "stdout",
     "output_type": "stream",
     "text": [
      "dict_keys(['loss', 'accuracy', 'val_loss', 'val_accuracy'])\n"
     ]
    },
    {
     "data": {
      "image/png": "[encoded data removed]",
      "text/plain": [
       "<Figure size 432x288 with 1 Axes>"
      ]
     },
     "metadata": {
      "needs_background": "light"
     },
     "output_type": "display_data"
    }
   ],
   "source": [
    "# Plotting our loss charts\n",
    "\n",
    "# Use the History object we created to get our saved performance results\n",
    "print(history.history.keys())\n",
    "\n",
    "# Extract the loss and validation losses\n",
    "loss = history.history['loss']\n",
    "val_loss = history.history['val_loss']\n",
    "# Get the number of epochs and create an array up to that number using range()\n",
    "epoch_range = range(epochs)\n",
    "# Plot line charts for both Validation and Training Loss\n",
    "plt.plot(loss, label = 'Training Loss')\n",
    "plt.plot(val_loss, label = 'val_loss')\n",
    "plt.show()"
   ]
  },
  {
   "cell_type": "code",
   "execution_count": 9,
   "metadata": {
    "id": "hYW1_JhibuCp"
   },
   "outputs": [
    {
     "name": "stdout",
     "output_type": "stream",
     "text": [
      "[0.16760000586509705, 0.17389999330043793, 0.20489999651908875, 0.2578999996185303, 0.3203999996185303, 0.31209999322891235, 0.011599999852478504, 0.0877000018954277, 0.08919999748468399, 0.09799999743700027]\n"
     ]
    },
    {
     "data": {
      "image/png": "[encoded data removed]",
      "text/plain": [
       "<Figure size 432x288 with 1 Axes>"
      ]
     },
     "metadata": {
      "needs_background": "light"
     },
     "output_type": "display_data"
    }
   ],
   "source": [
    "accuracy = history.history['accuracy']\n",
    "val_accuracy = history.history['val_accuracy']\n",
    "print(val_accuracy)\n",
    "# Plotting our accuracy charts\n",
    "plt.plot(accuracy, label='accuracy')\n",
    "plt.plot(val_accuracy, label = 'val_accuracy')\n",
    "plt.xlabel('Epoch')\n",
    "plt.ylabel('Accuracy')\n",
    "plt.legend(loc='lower right')\n",
    "\n",
    "plt.show()"
   ]
  },
  {
   "cell_type": "markdown",
   "metadata": {
    "id": "ebieT6LnuoH9"
   },
   "source": [
    "## Saving and loading your model"
   ]
  },
  {
   "cell_type": "code",
   "execution_count": 10,
   "metadata": {
    "id": "90K_VEWRbw1g"
   },
   "outputs": [
    {
     "name": "stdout",
     "output_type": "stream",
     "text": [
      "INFO:tensorflow:Assets written to: model1.1/assets\n"
     ]
    }
   ],
   "source": [
    "from tensorflow.keras.models import load_model\n",
    "model.save('model1.1')\n",
    "del model"
   ]
  },
  {
   "cell_type": "code",
   "execution_count": 11,
   "metadata": {
    "id": "6GSpUPg_uvkt"
   },
   "outputs": [],
   "source": [
    "model = load_model('model1.1')"
   ]
  },
  {
   "cell_type": "markdown",
   "metadata": {
    "id": "NXClhjBNvjO3"
   },
   "source": [
    "# Testing out Model on some random Test Data"
   ]
  },
  {
   "cell_type": "code",
   "execution_count": 20,
   "metadata": {
    "id": "3TFuBHwbvemo"
   },
   "outputs": [
    {
     "ename": "ValueError",
     "evalue": "in user code:\n\n    File \"/home/nik/anaconda3/lib/python3.8/site-packages/keras/engine/training.py\", line 1366, in test_function  *\n        return step_function(self, iterator)\n    File \"/home/nik/anaconda3/lib/python3.8/site-packages/keras/engine/training.py\", line 1356, in step_function  **\n        outputs = model.distribute_strategy.run(run_step, args=(data,))\n    File \"/home/nik/anaconda3/lib/python3.8/site-packages/keras/engine/training.py\", line 1349, in run_step  **\n        outputs = model.test_step(data)\n    File \"/home/nik/anaconda3/lib/python3.8/site-packages/keras/engine/training.py\", line 1305, in test_step\n        self.compiled_loss(\n    File \"/home/nik/anaconda3/lib/python3.8/site-packages/keras/engine/compile_utils.py\", line 201, in __call__\n        loss_value = loss_obj(y_t, y_p, sample_weight=sw)\n    File \"/home/nik/anaconda3/lib/python3.8/site-packages/keras/losses.py\", line 141, in __call__\n        losses = call_fn(y_true, y_pred)\n    File \"/home/nik/anaconda3/lib/python3.8/site-packages/keras/losses.py\", line 245, in call  **\n        return ag_fn(y_true, y_pred, **self._fn_kwargs)\n    File \"/home/nik/anaconda3/lib/python3.8/site-packages/keras/losses.py\", line 1664, in categorical_crossentropy\n        return backend.categorical_crossentropy(\n    File \"/home/nik/anaconda3/lib/python3.8/site-packages/keras/backend.py\", line 4994, in categorical_crossentropy\n        target.shape.assert_is_compatible_with(output.shape)\n\n    ValueError: Shapes (None, 10, 2, 2, 2) and (None, 10) are incompatible\n",
     "output_type": "error",
     "traceback": [
      "\u001b[0;31m---------------------------------------------------------------------------\u001b[0m",
      "\u001b[0;31mValueError\u001b[0m                                Traceback (most recent call last)",
      "\u001b[0;32m<ipython-input-20-178f575de440>\u001b[0m in \u001b[0;36m<module>\u001b[0;34m\u001b[0m\n\u001b[0;32m----> 1\u001b[0;31m \u001b[0mmodel\u001b[0m\u001b[0;34m.\u001b[0m\u001b[0mevaluate\u001b[0m\u001b[0;34m(\u001b[0m\u001b[0mx_test\u001b[0m\u001b[0;34m,\u001b[0m \u001b[0my_test\u001b[0m\u001b[0;34m)\u001b[0m\u001b[0;34m\u001b[0m\u001b[0;34m\u001b[0m\u001b[0m\n\u001b[0m\u001b[1;32m      2\u001b[0m \u001b[0mprint\u001b[0m\u001b[0;34m(\u001b[0m\u001b[0my_test\u001b[0m\u001b[0;34m[\u001b[0m\u001b[0;36m0\u001b[0m\u001b[0;34m]\u001b[0m\u001b[0;34m)\u001b[0m\u001b[0;34m\u001b[0m\u001b[0;34m\u001b[0m\u001b[0m\n",
      "\u001b[0;32m~/anaconda3/lib/python3.8/site-packages/keras/utils/traceback_utils.py\u001b[0m in \u001b[0;36merror_handler\u001b[0;34m(*args, **kwargs)\u001b[0m\n\u001b[1;32m     65\u001b[0m     \u001b[0;32mexcept\u001b[0m \u001b[0mException\u001b[0m \u001b[0;32mas\u001b[0m \u001b[0me\u001b[0m\u001b[0;34m:\u001b[0m  \u001b[0;31m# pylint: disable=broad-except\u001b[0m\u001b[0;34m\u001b[0m\u001b[0;34m\u001b[0m\u001b[0m\n\u001b[1;32m     66\u001b[0m       \u001b[0mfiltered_tb\u001b[0m \u001b[0;34m=\u001b[0m \u001b[0m_process_traceback_frames\u001b[0m\u001b[0;34m(\u001b[0m\u001b[0me\u001b[0m\u001b[0;34m.\u001b[0m\u001b[0m__traceback__\u001b[0m\u001b[0;34m)\u001b[0m\u001b[0;34m\u001b[0m\u001b[0;34m\u001b[0m\u001b[0m\n\u001b[0;32m---> 67\u001b[0;31m       \u001b[0;32mraise\u001b[0m \u001b[0me\u001b[0m\u001b[0;34m.\u001b[0m\u001b[0mwith_traceback\u001b[0m\u001b[0;34m(\u001b[0m\u001b[0mfiltered_tb\u001b[0m\u001b[0;34m)\u001b[0m \u001b[0;32mfrom\u001b[0m \u001b[0;32mNone\u001b[0m\u001b[0;34m\u001b[0m\u001b[0;34m\u001b[0m\u001b[0m\n\u001b[0m\u001b[1;32m     68\u001b[0m     \u001b[0;32mfinally\u001b[0m\u001b[0;34m:\u001b[0m\u001b[0;34m\u001b[0m\u001b[0;34m\u001b[0m\u001b[0m\n\u001b[1;32m     69\u001b[0m       \u001b[0;32mdel\u001b[0m \u001b[0mfiltered_tb\u001b[0m\u001b[0;34m\u001b[0m\u001b[0;34m\u001b[0m\u001b[0m\n",
      "\u001b[0;32m~/anaconda3/lib/python3.8/site-packages/tensorflow/python/framework/func_graph.py\u001b[0m in \u001b[0;36mautograph_handler\u001b[0;34m(*args, **kwargs)\u001b[0m\n\u001b[1;32m   1127\u001b[0m           \u001b[0;32mexcept\u001b[0m \u001b[0mException\u001b[0m \u001b[0;32mas\u001b[0m \u001b[0me\u001b[0m\u001b[0;34m:\u001b[0m  \u001b[0;31m# pylint:disable=broad-except\u001b[0m\u001b[0;34m\u001b[0m\u001b[0;34m\u001b[0m\u001b[0m\n\u001b[1;32m   1128\u001b[0m             \u001b[0;32mif\u001b[0m \u001b[0mhasattr\u001b[0m\u001b[0;34m(\u001b[0m\u001b[0me\u001b[0m\u001b[0;34m,\u001b[0m \u001b[0;34m\"ag_error_metadata\"\u001b[0m\u001b[0;34m)\u001b[0m\u001b[0;34m:\u001b[0m\u001b[0;34m\u001b[0m\u001b[0;34m\u001b[0m\u001b[0m\n\u001b[0;32m-> 1129\u001b[0;31m               \u001b[0;32mraise\u001b[0m \u001b[0me\u001b[0m\u001b[0;34m.\u001b[0m\u001b[0mag_error_metadata\u001b[0m\u001b[0;34m.\u001b[0m\u001b[0mto_exception\u001b[0m\u001b[0;34m(\u001b[0m\u001b[0me\u001b[0m\u001b[0;34m)\u001b[0m\u001b[0;34m\u001b[0m\u001b[0;34m\u001b[0m\u001b[0m\n\u001b[0m\u001b[1;32m   1130\u001b[0m             \u001b[0;32melse\u001b[0m\u001b[0;34m:\u001b[0m\u001b[0;34m\u001b[0m\u001b[0;34m\u001b[0m\u001b[0m\n\u001b[1;32m   1131\u001b[0m               \u001b[0;32mraise\u001b[0m\u001b[0;34m\u001b[0m\u001b[0;34m\u001b[0m\u001b[0m\n",
      "\u001b[0;31mValueError\u001b[0m: in user code:\n\n    File \"/home/nik/anaconda3/lib/python3.8/site-packages/keras/engine/training.py\", line 1366, in test_function  *\n        return step_function(self, iterator)\n    File \"/home/nik/anaconda3/lib/python3.8/site-packages/keras/engine/training.py\", line 1356, in step_function  **\n        outputs = model.distribute_strategy.run(run_step, args=(data,))\n    File \"/home/nik/anaconda3/lib/python3.8/site-packages/keras/engine/training.py\", line 1349, in run_step  **\n        outputs = model.test_step(data)\n    File \"/home/nik/anaconda3/lib/python3.8/site-packages/keras/engine/training.py\", line 1305, in test_step\n        self.compiled_loss(\n    File \"/home/nik/anaconda3/lib/python3.8/site-packages/keras/engine/compile_utils.py\", line 201, in __call__\n        loss_value = loss_obj(y_t, y_p, sample_weight=sw)\n    File \"/home/nik/anaconda3/lib/python3.8/site-packages/keras/losses.py\", line 141, in __call__\n        losses = call_fn(y_true, y_pred)\n    File \"/home/nik/anaconda3/lib/python3.8/site-packages/keras/losses.py\", line 245, in call  **\n        return ag_fn(y_true, y_pred, **self._fn_kwargs)\n    File \"/home/nik/anaconda3/lib/python3.8/site-packages/keras/losses.py\", line 1664, in categorical_crossentropy\n        return backend.categorical_crossentropy(\n    File \"/home/nik/anaconda3/lib/python3.8/site-packages/keras/backend.py\", line 4994, in categorical_crossentropy\n        target.shape.assert_is_compatible_with(output.shape)\n\n    ValueError: Shapes (None, 10, 2, 2, 2) and (None, 10) are incompatible\n"
     ]
    }
   ],
   "source": [
    "model.evaluate(x_test, y_test)"
   ]
  },
  {
   "cell_type": "markdown",
   "metadata": {
    "id": "Nx_a3d7IwkTi"
   },
   "source": [
    "# Summary\n",
    "\n",
    "In this notebook we:\n",
    "\n",
    "* Loaded the MNIST Dataset\n",
    "* Trained a Convolutional Neural Network on the MNIST dataset\n",
    "* Tested our model on some of test data\n",
    "\n",
    "The end deliverable from this section is a trained CNN using the architecture described for at least 10 epochs. The expected accuracy of your model should be at least 98%. In the next section, we will use the model you saved and try to understand what the model actually 'learnt'."
   ]
  }
 ],
 "metadata": {
  "accelerator": "GPU",
  "colab": {
   "collapsed_sections": [],
   "name": "1_1_Partial_Solution_Milestone_1_Create_a_CNN_model_to_classify_handwritten_digits_using_TensorFlow_2.ipynb",
   "provenance": []
  },
  "kernelspec": {
   "display_name": "Python 3",
   "language": "python",
   "name": "python3"
  },
  "language_info": {
   "codemirror_mode": {
    "name": "ipython",
    "version": 3
   },
   "file_extension": ".py",
   "mimetype": "text/x-python",
   "name": "python",
   "nbconvert_exporter": "python",
   "pygments_lexer": "ipython3",
   "version": "3.8.8"
  }
 },
 "nbformat": 4,
 "nbformat_minor": 1
}
